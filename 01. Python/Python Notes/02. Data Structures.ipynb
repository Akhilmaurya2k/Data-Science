{
 "cells": [
  {
   "cell_type": "markdown",
   "id": "b5023108-0848-4ba8-8d64-7b9a52fe1d43",
   "metadata": {},
   "source": [
    "# Data Types in Python"
   ]
  },
  {
   "cell_type": "markdown",
   "id": "b78d24ca-e674-41c0-9ac8-f56af783d183",
   "metadata": {},
   "source": [
    "Basic Data Types available in python are:\n",
    "\n",
    "- **Numeric** - int, float, complex (Immutable)\n",
    "- **Strings** (Immutable)\n",
    "- **List** (Mutable, mostly used to store homogeneous data types)\n",
    "- **Tuple** (Immutable, faster compared to List)\n",
    "- **Set** (Unordered collection of items, mutable, removes duplicates)\n",
    "- **Dictionary** (Unordered collection of Key-Value Pairs, Mutable, Keys are Unique - values may not be unique)"
   ]
  },
  {
   "cell_type": "markdown",
   "id": "1d4536f8-6c61-48fc-a8e7-7c72275dac56",
   "metadata": {
    "jp-MarkdownHeadingCollapsed": true
   },
   "source": [
    "## Strings"
   ]
  },
  {
   "cell_type": "code",
   "execution_count": 1,
   "id": "80821db0-2b52-4108-816a-50bc0b1f1288",
   "metadata": {},
   "outputs": [
    {
     "name": "stdout",
     "output_type": "stream",
     "text": [
      "<class 'str'>\n",
      "<class 'str'>\n",
      "22\n"
     ]
    }
   ],
   "source": [
    "c = 'a'\n",
    "\n",
    "print(type(c))\n",
    "\n",
    "s = 'We are leaning Python!'\n",
    "\n",
    "print(type(s))\n",
    "\n",
    "print(len(s))"
   ]
  },
  {
   "cell_type": "code",
   "execution_count": 6,
   "id": "79d54378-541c-45ff-bdf3-4f1b64f61a13",
   "metadata": {},
   "outputs": [
    {
     "name": "stdout",
     "output_type": "stream",
     "text": [
      "i\n",
      "hi there\n",
      "hi 10\n"
     ]
    }
   ],
   "source": [
    "s = 'hi'\n",
    "\n",
    "print(s[1])\n",
    "\n",
    "# print(s[3])\n",
    "\n",
    "# print(s[1.0])\n",
    "\n",
    "print(s+' there')\n",
    "\n",
    "print(s, 10)"
   ]
  },
  {
   "cell_type": "code",
   "execution_count": 11,
   "id": "f1f2f868-9588-4e6e-946c-d472c9ef16ec",
   "metadata": {},
   "outputs": [
    {
     "name": "stdout",
     "output_type": "stream",
     "text": [
      " WE ARE LEARNING PYTHON! \n",
      " we are learning python! \n",
      "We are learning Python!\n"
     ]
    }
   ],
   "source": [
    "s = ' We are learning Python! '\n",
    "\n",
    "print(s.upper())\n",
    "\n",
    "print(s.lower())\n",
    "\n",
    "print(s.strip()) # Removes extra white spaces from front and back"
   ]
  },
  {
   "cell_type": "code",
   "execution_count": 32,
   "id": "8679a377-cebc-49db-b186-5b97de9e6ffe",
   "metadata": {},
   "outputs": [
    {
     "name": "stdout",
     "output_type": "stream",
     "text": [
      "-1\n",
      "We are learning Python!\n",
      "['We', 'are', 'learning', 'Python!']\n",
      "<class 'list'>\n",
      "We are learning Python!\n",
      "<class 'str'>\n"
     ]
    }
   ],
   "source": [
    "s = 'We are leaning Python!'\n",
    "\n",
    "# returns -1 because its not present\n",
    "print(s.find('learning'))\n",
    "\n",
    "# correction\n",
    "s = s.replace('leaning', 'learning')\n",
    "print(s)\n",
    "\n",
    "# str to list (use split)\n",
    "split_string = s.split(' ')\n",
    "print(split_string)\n",
    "print(type(split_string))\n",
    "\n",
    "# list to str (use join)\n",
    "join_string = ' '.join(split_string)\n",
    "print(join_string)\n",
    "print(type(join_string))"
   ]
  },
  {
   "cell_type": "code",
   "execution_count": 33,
   "id": "c0925c9e-db41-4432-8915-9a5fdcd00a89",
   "metadata": {},
   "outputs": [
    {
     "name": "stdout",
     "output_type": "stream",
     "text": [
      "!\n"
     ]
    }
   ],
   "source": [
    "s = 'We are leaning Python!'\n",
    "\n",
    "print(s[-1])"
   ]
  },
  {
   "cell_type": "code",
   "execution_count": 43,
   "id": "8336cb74-6a92-418d-bccc-42a8e776d6d2",
   "metadata": {},
   "outputs": [
    {
     "name": "stdout",
     "output_type": "stream",
     "text": [
      "print(s[-9]) : T\n",
      "print(s[::2]) : TaAGy\n",
      "print(s[:5]) : ThatA\n",
      "print(s[5:]) : IGuy\n",
      "print(s[-7:-3:1]) : atAI\n",
      "print(s[::-1]) : yuGIAtahT\n"
     ]
    }
   ],
   "source": [
    "s = 'ThatAIGuy'\n",
    "\n",
    "print('print(s[-9]) :',s[-9])\n",
    "\n",
    "print('print(s[::2]) :',s[::2])\n",
    "\n",
    "print('print(s[:5]) :',s[:5])\n",
    "\n",
    "print('print(s[5:]) :',s[5:])\n",
    "\n",
    "print('print(s[-7:-3:1]) :',s[-7:-3:1])\n",
    "\n",
    "print('print(s[::-1]) :',s[::-1])"
   ]
  },
  {
   "cell_type": "code",
   "execution_count": null,
   "id": "ad550980-f1b3-4bc5-a8a0-63e09704fd13",
   "metadata": {},
   "outputs": [],
   "source": [
    "Try below mentioned methods\n",
    "\n",
    "# isalpha(), isdigit(), isspace()\n",
    "# startswith('abc'), endswith('abc')\n",
    "# find('abc') returns first index, otherwise -1\n",
    "# replace('old', 'new')\n",
    "# split(' ') return list\n",
    "# ' '.join(list) return string"
   ]
  },
  {
   "cell_type": "code",
   "execution_count": 56,
   "id": "51951550-4312-4fbf-9879-7a10c0b23abf",
   "metadata": {},
   "outputs": [
    {
     "data": {
      "text/plain": [
       "True"
      ]
     },
     "execution_count": 56,
     "metadata": {},
     "output_type": "execute_result"
    }
   ],
   "source": [
    "s = 'ThatAIGuy'\n",
    "\n",
    "s.isalpha()"
   ]
  },
  {
   "cell_type": "code",
   "execution_count": 57,
   "id": "c421b8a0-299a-4761-9f2e-37f98d5887c8",
   "metadata": {},
   "outputs": [
    {
     "data": {
      "text/plain": [
       "False"
      ]
     },
     "execution_count": 57,
     "metadata": {},
     "output_type": "execute_result"
    }
   ],
   "source": [
    "s.isdigit()"
   ]
  },
  {
   "cell_type": "code",
   "execution_count": 58,
   "id": "08170f38-386d-4e6e-bd7e-454f5ac3105c",
   "metadata": {},
   "outputs": [
    {
     "data": {
      "text/plain": [
       "False"
      ]
     },
     "execution_count": 58,
     "metadata": {},
     "output_type": "execute_result"
    }
   ],
   "source": [
    "s.isspace()"
   ]
  },
  {
   "cell_type": "code",
   "execution_count": 61,
   "id": "dc3b9bd3-76b7-4ddb-b376-e790c564a0b5",
   "metadata": {},
   "outputs": [
    {
     "data": {
      "text/plain": [
       "True"
      ]
     },
     "execution_count": 61,
     "metadata": {},
     "output_type": "execute_result"
    }
   ],
   "source": [
    "s.startswith('That')"
   ]
  },
  {
   "cell_type": "code",
   "execution_count": 62,
   "id": "68af5c4a-2e77-488c-84f1-4995f2f61a52",
   "metadata": {},
   "outputs": [
    {
     "data": {
      "text/plain": [
       "False"
      ]
     },
     "execution_count": 62,
     "metadata": {},
     "output_type": "execute_result"
    }
   ],
   "source": [
    "s.endswith('That')"
   ]
  },
  {
   "cell_type": "code",
   "execution_count": 64,
   "id": "fcc3b5a3-ac46-4c48-9d83-959577668392",
   "metadata": {},
   "outputs": [
    {
     "data": {
      "text/plain": [
       "'thatAIGuy'"
      ]
     },
     "execution_count": 64,
     "metadata": {},
     "output_type": "execute_result"
    }
   ],
   "source": [
    "s.replace('That', 'that')"
   ]
  },
  {
   "cell_type": "code",
   "execution_count": 66,
   "id": "193c3e2b-1e09-4314-ab5a-190adb5d2b83",
   "metadata": {},
   "outputs": [
    {
     "name": "stdout",
     "output_type": "stream",
     "text": [
      "ThatAIguy\n",
      "g\n"
     ]
    }
   ],
   "source": [
    "# Strings are Immutable\n",
    "\n",
    "s = 'ThatAIguy'\n",
    "\n",
    "print(s)\n",
    "\n",
    "print(s[6])"
   ]
  },
  {
   "cell_type": "code",
   "execution_count": 68,
   "id": "518d05fd-8b05-4865-a4f2-f67079944ae5",
   "metadata": {},
   "outputs": [],
   "source": [
    "# immutable\n",
    "# s[6] = 'G'\n",
    "\n",
    "# print(s)"
   ]
  },
  {
   "cell_type": "markdown",
   "id": "fc4c1fae-685f-4155-b858-8c66f6c52d6a",
   "metadata": {
    "jp-MarkdownHeadingCollapsed": true
   },
   "source": [
    "# Lists"
   ]
  },
  {
   "cell_type": "code",
   "execution_count": 69,
   "id": "54974394-ad00-4a9a-a168-977a131712b2",
   "metadata": {},
   "outputs": [
    {
     "name": "stdout",
     "output_type": "stream",
     "text": [
      "<class 'list'>\n"
     ]
    }
   ],
   "source": [
    "# Initialization\n",
    "\n",
    "l = []\n",
    "\n",
    "print(type(l))"
   ]
  },
  {
   "cell_type": "code",
   "execution_count": 70,
   "id": "224ba1d7-8e4b-4394-975d-35afd4c11537",
   "metadata": {},
   "outputs": [
    {
     "name": "stdout",
     "output_type": "stream",
     "text": [
      "['shark', 'cuttlefish', 'squid', 'mantisshrimp', 'anemone']\n",
      "<class 'list'>\n",
      "5\n"
     ]
    }
   ],
   "source": [
    "sea_creatures = ['shark', 'cuttlefish', 'squid', 'mantisshrimp', 'anemone']\n",
    "\n",
    "print(sea_creatures)\n",
    "\n",
    "print(type(sea_creatures))\n",
    "\n",
    "print(len(sea_creatures))"
   ]
  },
  {
   "cell_type": "code",
   "execution_count": 76,
   "id": "b3267a4b-d8db-4821-a230-e8a5248640c9",
   "metadata": {},
   "outputs": [
    {
     "name": "stdout",
     "output_type": "stream",
     "text": [
      "shark\n",
      "cuttlefish\n",
      "squid\n",
      "mantisshrimp\n",
      "anemone\n",
      "****************************************************************************************************\n",
      "anemone\n",
      "mantisshrimp\n",
      "squid\n",
      "cuttlefish\n"
     ]
    }
   ],
   "source": [
    "sea_creatures = ['shark', 'cuttlefish', 'squid', 'mantisshrimp', 'anemone']\n",
    "\n",
    "print(sea_creatures[0])\n",
    "\n",
    "print(sea_creatures[1])\n",
    "\n",
    "print(sea_creatures[2])\n",
    "\n",
    "print(sea_creatures[3])\n",
    "\n",
    "print(sea_creatures[4])\n",
    "\n",
    "# print(sea_creatures[5])\n",
    "\n",
    "print('*'*100)\n",
    "\n",
    "print(sea_creatures[-1])\n",
    "\n",
    "print(sea_creatures[-2])\n",
    "\n",
    "print(sea_creatures[-3])\n",
    "\n",
    "print(sea_creatures[-4])\n",
    "\n",
    "# try print(sea_creatures[-6]) it will throw out of range error"
   ]
  },
  {
   "cell_type": "code",
   "execution_count": null,
   "id": "e59de4a3-3983-4c3c-81b5-9df19906a9d5",
   "metadata": {},
   "outputs": [],
   "source": [
    "'''\n",
    "This is a multi line comment demonstrated by using triple single-quote\n",
    "\n",
    "Below mentioned list 'l' is a collection of heterogeneous data types.\n",
    "'''\n",
    "\n",
    "l = []\n",
    "\n",
    "l.append(10)\n",
    "\n",
    "l.append('Hi')\n",
    "\n",
    "l.append(20.20)\n",
    "\n",
    "l.append(True)\n",
    "\n",
    "print(l)"
   ]
  },
  {
   "cell_type": "code",
   "execution_count": 2,
   "id": "867851a2-9569-44e3-b1b3-4d615692704b",
   "metadata": {},
   "outputs": [
    {
     "name": "stdout",
     "output_type": "stream",
     "text": [
      "a\n",
      "5\n"
     ]
    }
   ],
   "source": [
    "\"\"\"\n",
    "This is a multi line comment demonstrated by using triple double-quote\n",
    "\n",
    "This is an example for nested lists.\n",
    "\"\"\"\n",
    "\n",
    "nest_list = ['Happy', [2, 0, 1, 5]]\n",
    "\n",
    "print(nest_list[0][1])\n",
    "\n",
    "print(nest_list[1][3])"
   ]
  },
  {
   "cell_type": "code",
   "execution_count": 9,
   "id": "cb3b4246-4467-4f28-a511-aa29242f0719",
   "metadata": {},
   "outputs": [
    {
     "name": "stdout",
     "output_type": "stream",
     "text": [
      "7\n"
     ]
    }
   ],
   "source": [
    "nest_list = [(1,2),(3,7),(6,4)]\n",
    "\n",
    "print(nest_list[1][1])"
   ]
  },
  {
   "cell_type": "code",
   "execution_count": 11,
   "id": "a328e2ec-5dd1-4a9d-bacf-c1d7ede875cd",
   "metadata": {},
   "outputs": [
    {
     "name": "stdout",
     "output_type": "stream",
     "text": [
      "['shark', 'cuttlefish', 'squid', 'mantisshrimp', 'anemone']\n"
     ]
    }
   ],
   "source": [
    "\"\"\"\n",
    "Because lists are mutable, below written code will\n",
    "overwrite existing list\n",
    "\"\"\"\n",
    "\n",
    "sea_creatures = ['shark', 'cuttlefish', 'squid', 'mantisshrimp', 'anemone']\n",
    "\n",
    "print(sea_creatures)"
   ]
  },
  {
   "cell_type": "code",
   "execution_count": 12,
   "id": "cf436ffb-5ea0-4cd7-a5e4-48fe4aab4aeb",
   "metadata": {},
   "outputs": [
    {
     "name": "stdout",
     "output_type": "stream",
     "text": [
      "['shark', 'octopus', 'squid', 'mantisshrimp', 'anemone']\n"
     ]
    }
   ],
   "source": [
    "sea_creatures[1] = 'octopus'\n",
    "\n",
    "print(sea_creatures)"
   ]
  },
  {
   "cell_type": "code",
   "execution_count": 13,
   "id": "4aa714bf-e0e2-4304-a7ca-d204ce507718",
   "metadata": {},
   "outputs": [
    {
     "name": "stdout",
     "output_type": "stream",
     "text": [
      "['shark', 'octopus', 'blobfish', 'mantisshrimp', 'anemone']\n"
     ]
    }
   ],
   "source": [
    "sea_creatures[-3] = 'blobfish'\n",
    "\n",
    "print(sea_creatures)"
   ]
  },
  {
   "cell_type": "code",
   "execution_count": 15,
   "id": "38e47e4a-7343-45d6-ae6b-58568720384a",
   "metadata": {},
   "outputs": [],
   "source": [
    "# str is Immutable\n",
    "# sea_creatures[0][2] = 'd'\n",
    "\n",
    "# print(sea_creatures)"
   ]
  },
  {
   "cell_type": "code",
   "execution_count": 18,
   "id": "0ba35733-8456-4b7e-ae60-d8b672e8a0d9",
   "metadata": {},
   "outputs": [
    {
     "name": "stdout",
     "output_type": "stream",
     "text": [
      "['T', 'h', 'a', 't']\n",
      "['I', 'G']\n"
     ]
    }
   ],
   "source": [
    "# Slicing Operation\n",
    "\n",
    "my_list = ['T', 'h', 'a', 't', 'A', 'I', 'G', 'u', 'y']\n",
    "\n",
    "print(my_list[:-5])\n",
    "\n",
    "print(my_list[-4:-2])"
   ]
  },
  {
   "cell_type": "code",
   "execution_count": 19,
   "id": "a0e80cdb-f46a-4f39-a8af-c4cb33cd6966",
   "metadata": {},
   "outputs": [
    {
     "name": "stdout",
     "output_type": "stream",
     "text": [
      "List before sorting: [3, 1, 2, 8, 5, 4]\n",
      "List after sorting: [1, 2, 3, 4, 5, 8]\n"
     ]
    }
   ],
   "source": [
    "#  Sorting a list\n",
    "\n",
    "l = [3, 1, 2, 8, 5, 4]\n",
    "\n",
    "print(\"List before sorting:\", l)\n",
    "\n",
    "l.sort()\n",
    "\n",
    "print(\"List after sorting:\", l)"
   ]
  },
  {
   "cell_type": "code",
   "execution_count": 21,
   "id": "16d3de43-31d8-4f51-bed3-c2a7819e669b",
   "metadata": {},
   "outputs": [],
   "source": [
    "# Try below mentioned Methods\n",
    "\n",
    "# append(element)\n",
    "# insert(index, element) This will insert 'element' at the given 'index'\n",
    "# list1.extend(list2) appends list2 at the end of list1\n",
    "# list.index(element) \n",
    "# list.index(element, index) find next element starting at 'index'\n",
    "# list.remove(element)\n",
    "# list.sort() here list should contain one kind of data type\n",
    "# list.reverse()\n",
    "# list.pop(index)\n",
    "# list.count(element)"
   ]
  },
  {
   "cell_type": "code",
   "execution_count": 33,
   "id": "7860c203-4507-43ab-ae48-c3e37af024e4",
   "metadata": {},
   "outputs": [
    {
     "name": "stdout",
     "output_type": "stream",
     "text": [
      "[]\n"
     ]
    }
   ],
   "source": [
    "lst = []\n",
    "print(lst)"
   ]
  },
  {
   "cell_type": "code",
   "execution_count": 34,
   "id": "41f22530-351d-4403-b179-c41ad0b3e7b5",
   "metadata": {},
   "outputs": [
    {
     "name": "stdout",
     "output_type": "stream",
     "text": [
      "[1]\n"
     ]
    }
   ],
   "source": [
    "lst.append(1)\n",
    "print(lst)"
   ]
  },
  {
   "cell_type": "code",
   "execution_count": 35,
   "id": "8300604e-52f9-40aa-badc-02c4e1f3a2bf",
   "metadata": {},
   "outputs": [
    {
     "name": "stdout",
     "output_type": "stream",
     "text": [
      "[10, 1]\n"
     ]
    }
   ],
   "source": [
    "lst.insert(0, 10)\n",
    "print(lst)"
   ]
  },
  {
   "cell_type": "code",
   "execution_count": 36,
   "id": "e2a2a84c-e01c-4b45-93a3-a4eb122e8647",
   "metadata": {},
   "outputs": [
    {
     "name": "stdout",
     "output_type": "stream",
     "text": [
      "[10, 1, 9, 8, 7, 6, 5, 4, 3, 2]\n"
     ]
    }
   ],
   "source": [
    "lst_2 = [9,8,7,6,5,4,3,2]\n",
    "lst.extend(lst_2)\n",
    "print(lst)"
   ]
  },
  {
   "cell_type": "code",
   "execution_count": 37,
   "id": "9d3f5a68-f5f4-4bc5-abd1-dae5782d19c1",
   "metadata": {},
   "outputs": [
    {
     "data": {
      "text/plain": [
       "2"
      ]
     },
     "execution_count": 37,
     "metadata": {},
     "output_type": "execute_result"
    }
   ],
   "source": [
    "lst.index(9)"
   ]
  },
  {
   "cell_type": "code",
   "execution_count": 38,
   "id": "1d3d4bac-f405-436c-9ebb-e714c1cf0bd2",
   "metadata": {},
   "outputs": [
    {
     "data": {
      "text/plain": [
       "2"
      ]
     },
     "execution_count": 38,
     "metadata": {},
     "output_type": "execute_result"
    }
   ],
   "source": [
    "lst.index(9, 1)"
   ]
  },
  {
   "cell_type": "code",
   "execution_count": 39,
   "id": "4fa66a07-3e57-4322-9eec-c6c8e4a27339",
   "metadata": {},
   "outputs": [
    {
     "data": {
      "text/plain": [
       "[10, 9, 8, 7, 6, 5, 4, 3, 2]"
      ]
     },
     "execution_count": 39,
     "metadata": {},
     "output_type": "execute_result"
    }
   ],
   "source": [
    "lst.remove(1)\n",
    "lst"
   ]
  },
  {
   "cell_type": "code",
   "execution_count": 40,
   "id": "6cd404a4-9b47-41cc-9b18-9ddf1d012b15",
   "metadata": {},
   "outputs": [],
   "source": [
    "lst.sort()"
   ]
  },
  {
   "cell_type": "code",
   "execution_count": 41,
   "id": "cef2db63-6bd2-469b-8214-5765d503bdc4",
   "metadata": {},
   "outputs": [
    {
     "data": {
      "text/plain": [
       "[2, 3, 4, 5, 6, 7, 8, 9, 10]"
      ]
     },
     "execution_count": 41,
     "metadata": {},
     "output_type": "execute_result"
    }
   ],
   "source": [
    "lst"
   ]
  },
  {
   "cell_type": "code",
   "execution_count": 42,
   "id": "53e29ead-bd22-4e9a-9c80-204e5ec7f6e2",
   "metadata": {},
   "outputs": [
    {
     "data": {
      "text/plain": [
       "[10, 9, 8, 7, 6, 5, 4, 3, 2]"
      ]
     },
     "execution_count": 42,
     "metadata": {},
     "output_type": "execute_result"
    }
   ],
   "source": [
    "lst.reverse()\n",
    "lst"
   ]
  },
  {
   "cell_type": "code",
   "execution_count": 43,
   "id": "226b4cb9-cd63-4e5f-9d4b-47957d38b3f2",
   "metadata": {},
   "outputs": [
    {
     "data": {
      "text/plain": [
       "[10, 9, 8, 7, 6, 4, 3, 2]"
      ]
     },
     "execution_count": 43,
     "metadata": {},
     "output_type": "execute_result"
    }
   ],
   "source": [
    "lst.pop(5)\n",
    "lst"
   ]
  },
  {
   "cell_type": "code",
   "execution_count": 45,
   "id": "37077f1b-f44d-4815-a7f6-056aab0ae37e",
   "metadata": {},
   "outputs": [
    {
     "data": {
      "text/plain": [
       "1"
      ]
     },
     "execution_count": 45,
     "metadata": {},
     "output_type": "execute_result"
    }
   ],
   "source": [
    "lst.count(9)"
   ]
  },
  {
   "cell_type": "code",
   "execution_count": 46,
   "id": "eb189b02-0fa7-4a38-9cde-96129610f91e",
   "metadata": {},
   "outputs": [
    {
     "name": "stdout",
     "output_type": "stream",
     "text": [
      "[1, 2, 3, 4, 5, 6]\n"
     ]
    }
   ],
   "source": [
    "lst_1 = [1, 2, 3]\n",
    "lst_2 = [4, 5, 6]\n",
    "\n",
    "print(lst_1 + lst_2)"
   ]
  },
  {
   "cell_type": "markdown",
   "id": "cc812728-16eb-4944-9a7e-805ae67c249d",
   "metadata": {
    "jp-MarkdownHeadingCollapsed": true
   },
   "source": [
    "# Tuple"
   ]
  },
  {
   "cell_type": "code",
   "execution_count": 47,
   "id": "b5019798-3186-42f7-9f50-2a076a078029",
   "metadata": {},
   "outputs": [
    {
     "name": "stdout",
     "output_type": "stream",
     "text": [
      "<class 'tuple'>\n"
     ]
    }
   ],
   "source": [
    "#initialization\n",
    "\n",
    "t = ()\n",
    "\n",
    "print(type(t))"
   ]
  },
  {
   "cell_type": "code",
   "execution_count": 48,
   "id": "2a5dccd9-e6bf-4e02-be30-e1b77a53f5cd",
   "metadata": {},
   "outputs": [
    {
     "name": "stdout",
     "output_type": "stream",
     "text": [
      "<class 'tuple'>\n"
     ]
    }
   ],
   "source": [
    "t = tuple()\n",
    "\n",
    "print(type(t))"
   ]
  },
  {
   "cell_type": "code",
   "execution_count": 49,
   "id": "89f6f85b-5d1f-4ecf-935b-f3c10fecb3c8",
   "metadata": {},
   "outputs": [
    {
     "name": "stdout",
     "output_type": "stream",
     "text": [
      "(1, 2, 3)\n"
     ]
    }
   ],
   "source": [
    "t = (1,2,3)\n",
    "\n",
    "print(t)"
   ]
  },
  {
   "cell_type": "code",
   "execution_count": 50,
   "id": "6fd64832-83e5-4f1b-9fd5-ec533687cbd0",
   "metadata": {},
   "outputs": [
    {
     "name": "stdout",
     "output_type": "stream",
     "text": [
      "(1, 'Python', 1.2, 'ThatAIGuy')\n"
     ]
    }
   ],
   "source": [
    "t = (1, 'Python', 1.2, 'ThatAIGuy')\n",
    "\n",
    "print(t)"
   ]
  },
  {
   "cell_type": "code",
   "execution_count": 52,
   "id": "cc755690-6e82-4c64-806a-2445e4cef992",
   "metadata": {},
   "outputs": [
    {
     "name": "stdout",
     "output_type": "stream",
     "text": [
      "(1, (1, 2, 3), [1, 2, 3])\n"
     ]
    }
   ],
   "source": [
    "# Nested Tuple\n",
    "\n",
    "t = (1, (1, 2, 3), [1, 2, 3])\n",
    "\n",
    "print(t)"
   ]
  },
  {
   "cell_type": "code",
   "execution_count": 53,
   "id": "ffd81c8a-5a32-433a-bab0-dee51113dbc1",
   "metadata": {},
   "outputs": [
    {
     "name": "stdout",
     "output_type": "stream",
     "text": [
      "<class 'tuple'>\n",
      "<class 'tuple'>\n"
     ]
    }
   ],
   "source": [
    "t = 1,2\n",
    "\n",
    "print(type(t))\n",
    "\n",
    "t = 'ThatAIGuy',2\n",
    "\n",
    "print(type(t))"
   ]
  },
  {
   "cell_type": "code",
   "execution_count": 54,
   "id": "f9788343-4863-4a20-924b-6c4bfb1696b5",
   "metadata": {},
   "outputs": [
    {
     "name": "stdout",
     "output_type": "stream",
     "text": [
      "<class 'int'>\n",
      "<class 'str'>\n"
     ]
    }
   ],
   "source": [
    "t = (1)\n",
    "\n",
    "print(type(t))\n",
    "\n",
    "t = ('ThatAIGuy')\n",
    "\n",
    "print(type(t))"
   ]
  },
  {
   "cell_type": "code",
   "execution_count": 57,
   "id": "aa8b3ad6-5246-4ea5-9af7-44a98a9ccdb0",
   "metadata": {},
   "outputs": [
    {
     "name": "stdout",
     "output_type": "stream",
     "text": [
      "<class 'tuple'>\n",
      "<class 'tuple'>\n"
     ]
    }
   ],
   "source": [
    "t = 1,2\n",
    "\n",
    "print(type(t))\n",
    "\n",
    "t = 'ThatAIGuy',2\n",
    "\n",
    "print(type(t))"
   ]
  },
  {
   "cell_type": "code",
   "execution_count": 58,
   "id": "2e854cab-18b4-454e-8b88-f618e2388887",
   "metadata": {},
   "outputs": [
    {
     "name": "stdout",
     "output_type": "stream",
     "text": [
      "3\n",
      "(2, 3)\n"
     ]
    }
   ],
   "source": [
    "# Accessing with index\n",
    "\n",
    "t = (1, 2, 3)\n",
    "\n",
    "print(t[-1])\n",
    "\n",
    "# Slicing\n",
    "\n",
    "print(t[1:3])"
   ]
  },
  {
   "cell_type": "code",
   "execution_count": 60,
   "id": "e196d82b-68c3-4bfa-ad5d-33a074eefc7a",
   "metadata": {},
   "outputs": [
    {
     "name": "stdout",
     "output_type": "stream",
     "text": [
      "3\n"
     ]
    }
   ],
   "source": [
    "# # Tuples are Immutable\n",
    "\n",
    "t = (1, 2, 3, (4, 5), [6, 7, 8])\n",
    "print(t[2])"
   ]
  },
  {
   "cell_type": "code",
   "execution_count": 62,
   "id": "e4ebde7e-8cd7-4363-8c26-48b226e685ac",
   "metadata": {},
   "outputs": [],
   "source": [
    "# t[2] = 'Hi'"
   ]
  },
  {
   "cell_type": "code",
   "execution_count": 63,
   "id": "aa0218a3-4a33-46ef-80f3-99988d451d64",
   "metadata": {},
   "outputs": [
    {
     "name": "stdout",
     "output_type": "stream",
     "text": [
      "3\n",
      "6\n",
      "11\n",
      "1\n",
      "7\n",
      "39\n"
     ]
    }
   ],
   "source": [
    "t = (1, 2, 3, 4, 5, 6, 7, 1, 2, 1, 7)\n",
    "\n",
    "# count(element)\n",
    "print(t.count(1))\n",
    "\n",
    "# index(element)\n",
    "print(t.index(7))\n",
    "\n",
    "# len()\n",
    "print(len(t))\n",
    "\n",
    "# min()\n",
    "print(min(t))\n",
    "\n",
    "# max()\n",
    "print(max(t))\n",
    "\n",
    "# sum()\n",
    "print(sum(t))"
   ]
  },
  {
   "cell_type": "code",
   "execution_count": 65,
   "id": "032868d1-4f5d-40de-85b7-d1a60414c617",
   "metadata": {},
   "outputs": [],
   "source": [
    "# # del the tuple\n",
    "# del t\n",
    "\n",
    "# print(t)"
   ]
  },
  {
   "cell_type": "markdown",
   "id": "0dc0e0d6-cd93-4685-a47e-56909dbdaa99",
   "metadata": {
    "jp-MarkdownHeadingCollapsed": true
   },
   "source": [
    "# Sets"
   ]
  },
  {
   "cell_type": "code",
   "execution_count": 66,
   "id": "e0f4bbb3-fc0b-4dd0-aed9-bd56fb2139fd",
   "metadata": {},
   "outputs": [
    {
     "name": "stdout",
     "output_type": "stream",
     "text": [
      "<class 'set'>\n"
     ]
    }
   ],
   "source": [
    "# initialization\n",
    "\n",
    "s = set()\n",
    "\n",
    "print(type(s))"
   ]
  },
  {
   "cell_type": "code",
   "execution_count": 67,
   "id": "99b6e364-abd9-4f18-ac96-e94dbfa6cf03",
   "metadata": {},
   "outputs": [
    {
     "name": "stdout",
     "output_type": "stream",
     "text": [
      "{8, 1, 4, 0}\n",
      "<class 'set'>\n"
     ]
    }
   ],
   "source": [
    "s = set([1, 4, 8, 0])\n",
    "\n",
    "print(s)\n",
    "\n",
    "print(type(s))"
   ]
  },
  {
   "cell_type": "code",
   "execution_count": 71,
   "id": "43483369-0835-4f3d-9799-0f33ad29df16",
   "metadata": {},
   "outputs": [
    {
     "name": "stdout",
     "output_type": "stream",
     "text": [
      "<class 'dict'>\n"
     ]
    }
   ],
   "source": [
    "s = {}\n",
    "\n",
    "print(type(s))"
   ]
  },
  {
   "cell_type": "code",
   "execution_count": 72,
   "id": "05650c0c-bf66-4e55-a7a7-344aa43286c6",
   "metadata": {},
   "outputs": [
    {
     "name": "stdout",
     "output_type": "stream",
     "text": [
      "{1, 2, 3}\n",
      "<class 'set'>\n"
     ]
    }
   ],
   "source": [
    "s = {1, 2, 3}\n",
    "\n",
    "print(s)\n",
    "\n",
    "print(type(s))"
   ]
  },
  {
   "cell_type": "code",
   "execution_count": 73,
   "id": "77d0910c-1d9c-4445-9af2-441f2dd1097f",
   "metadata": {},
   "outputs": [
    {
     "name": "stdout",
     "output_type": "stream",
     "text": [
      "{1, 2, 3}\n"
     ]
    }
   ],
   "source": [
    "# Duplicates\n",
    "\n",
    "s = {1, 2, 3, 1, 2}\n",
    "\n",
    "print(s)"
   ]
  },
  {
   "cell_type": "code",
   "execution_count": 75,
   "id": "11ce3f5e-cff5-4a8a-bef6-199db709487d",
   "metadata": {},
   "outputs": [],
   "source": [
    "# # try index\n",
    "\n",
    "# s = {1, 2, 3}\n",
    "\n",
    "# print(s[1])"
   ]
  },
  {
   "cell_type": "code",
   "execution_count": 85,
   "id": "1becb023-db22-462b-b732-f87937f5e6ba",
   "metadata": {},
   "outputs": [],
   "source": [
    "# Set Operations\n",
    "\n",
    "set1 = {1, 2, 3}\n",
    "set2 = {3, 4, 5}"
   ]
  },
  {
   "cell_type": "code",
   "execution_count": 77,
   "id": "515b9585-80c7-42ec-8bf9-8ac35089d7d2",
   "metadata": {},
   "outputs": [
    {
     "name": "stdout",
     "output_type": "stream",
     "text": [
      "{1, 2, 3, 4, 5}\n"
     ]
    }
   ],
   "source": [
    "print(set1 | set2)"
   ]
  },
  {
   "cell_type": "code",
   "execution_count": 78,
   "id": "df40bb60-6998-43fd-aaef-f5b58461431b",
   "metadata": {},
   "outputs": [
    {
     "name": "stdout",
     "output_type": "stream",
     "text": [
      "{1, 2, 3, 4, 5}\n"
     ]
    }
   ],
   "source": [
    "print(set1.union(set2))"
   ]
  },
  {
   "cell_type": "code",
   "execution_count": 79,
   "id": "e8190b07-2084-480a-8a61-191f75fdb010",
   "metadata": {},
   "outputs": [
    {
     "name": "stdout",
     "output_type": "stream",
     "text": [
      "{3}\n"
     ]
    }
   ],
   "source": [
    "print(set1 & set2)"
   ]
  },
  {
   "cell_type": "code",
   "execution_count": 80,
   "id": "8abe2b7c-5987-4fd8-bf4b-8a0576e8f1f8",
   "metadata": {},
   "outputs": [
    {
     "name": "stdout",
     "output_type": "stream",
     "text": [
      "{3}\n"
     ]
    }
   ],
   "source": [
    "print(set1.intersection(set2))"
   ]
  },
  {
   "cell_type": "code",
   "execution_count": 81,
   "id": "3a672c27-aa04-41cf-b5b4-5614ee613d25",
   "metadata": {},
   "outputs": [
    {
     "name": "stdout",
     "output_type": "stream",
     "text": [
      "{1, 2}\n"
     ]
    }
   ],
   "source": [
    "print(set1 - set2)"
   ]
  },
  {
   "cell_type": "code",
   "execution_count": 82,
   "id": "350c0ac2-7e93-4933-a72d-0070ea701eb0",
   "metadata": {},
   "outputs": [
    {
     "name": "stdout",
     "output_type": "stream",
     "text": [
      "{1, 2}\n"
     ]
    }
   ],
   "source": [
    "print(set1.difference(set2))"
   ]
  },
  {
   "cell_type": "code",
   "execution_count": 87,
   "id": "728b039e-63c3-4640-88ab-c7de0621c382",
   "metadata": {},
   "outputs": [
    {
     "name": "stdout",
     "output_type": "stream",
     "text": [
      "{1, 2, 4, 5}\n",
      "{1, 2, 4, 5}\n"
     ]
    }
   ],
   "source": [
    "print(set1 ^ set2)\n",
    "\n",
    "print(set1.symmetric_difference(set2))"
   ]
  },
  {
   "cell_type": "markdown",
   "id": "0c7dc720-db02-4bc5-b4ad-14ab02456ad5",
   "metadata": {
    "jp-MarkdownHeadingCollapsed": true
   },
   "source": [
    "# Dictionary"
   ]
  },
  {
   "cell_type": "code",
   "execution_count": 97,
   "id": "92136b8c-02cc-436d-987d-5556bf5ad59a",
   "metadata": {},
   "outputs": [
    {
     "name": "stdout",
     "output_type": "stream",
     "text": [
      "<class 'dict'>\n"
     ]
    }
   ],
   "source": [
    "# initialization\n",
    "\n",
    "d = {}\n",
    "\n",
    "print(type(d))"
   ]
  },
  {
   "cell_type": "code",
   "execution_count": 98,
   "id": "a17c9be5-5e4b-48de-87ac-af9b74493ce3",
   "metadata": {},
   "outputs": [
    {
     "name": "stdout",
     "output_type": "stream",
     "text": [
      "{1: 'abc', 2: 'efg', 'name': 'xyz'}\n"
     ]
    }
   ],
   "source": [
    "d = {1:'abc', 2:'efg', 'name':'xyz'}\n",
    "\n",
    "print(d)"
   ]
  },
  {
   "cell_type": "code",
   "execution_count": 99,
   "id": "17a49fc9-aa2f-4efe-bfe7-5c9cae896a8f",
   "metadata": {},
   "outputs": [
    {
     "name": "stdout",
     "output_type": "stream",
     "text": [
      "abc\n",
      "xyz\n"
     ]
    }
   ],
   "source": [
    "# Accessing values\n",
    "\n",
    "print(d[1])\n",
    "\n",
    "print(d['name'])"
   ]
  },
  {
   "cell_type": "code",
   "execution_count": 100,
   "id": "567c5502-dfc0-4521-8693-5b8122314dd3",
   "metadata": {},
   "outputs": [],
   "source": [
    "# print(d[3])"
   ]
  },
  {
   "cell_type": "code",
   "execution_count": 101,
   "id": "736accf4-7c0e-4ce7-a182-d9d6a6737312",
   "metadata": {},
   "outputs": [
    {
     "name": "stdout",
     "output_type": "stream",
     "text": [
      "{1: 'abc', 2: 'efg', 'name': 'xyz'}\n",
      "{1: 'abc', 2: 'efg', 'name': 'lmn', 'age': 20}\n"
     ]
    }
   ],
   "source": [
    "# # updating dictionary\n",
    "\n",
    "print(d)\n",
    "\n",
    "d['name'] = 'lmn'\n",
    "\n",
    "d['age'] = 20\n",
    "\n",
    "print(d)"
   ]
  },
  {
   "cell_type": "code",
   "execution_count": 102,
   "id": "99f07c22-97cd-466f-95fc-886fc46b8925",
   "metadata": {},
   "outputs": [
    {
     "name": "stdout",
     "output_type": "stream",
     "text": [
      "{1: 'abc', 2: 'efg', 'age': 20}\n",
      "{}\n"
     ]
    }
   ],
   "source": [
    "# Deleting elements\n",
    "\n",
    "del d['name']\n",
    "print(d)\n",
    "\n",
    "d.clear()\n",
    "print(d)"
   ]
  },
  {
   "cell_type": "code",
   "execution_count": 103,
   "id": "18b6c28a-1a1e-4468-9d8f-67148a793bb9",
   "metadata": {},
   "outputs": [],
   "source": [
    "# del d\n",
    "\n",
    "# print(d)"
   ]
  },
  {
   "cell_type": "code",
   "execution_count": 105,
   "id": "187fb56e-9cd3-4967-81f8-5f39c15f7a24",
   "metadata": {},
   "outputs": [],
   "source": [
    "# # Key must immutable\n",
    "\n",
    "# d = {1:'abc', 2:'efg', ['name']:'xyz'}\n",
    "\n",
    "# print(d)"
   ]
  },
  {
   "cell_type": "code",
   "execution_count": 108,
   "id": "77394e82-4bcf-4d59-85aa-bf828ef54dd7",
   "metadata": {},
   "outputs": [
    {
     "data": {
      "text/plain": [
       "dict_keys([1, 2, 'name'])"
      ]
     },
     "execution_count": 108,
     "metadata": {},
     "output_type": "execute_result"
    }
   ],
   "source": [
    "d = {1:'abc', 2:'efg', 'name':'xyz'}\n",
    "\n",
    "d.keys()"
   ]
  },
  {
   "cell_type": "code",
   "execution_count": 109,
   "id": "ad3a5ee7-8046-4548-a519-0c7712665948",
   "metadata": {},
   "outputs": [
    {
     "data": {
      "text/plain": [
       "dict_values(['abc', 'efg', 'xyz'])"
      ]
     },
     "execution_count": 109,
     "metadata": {},
     "output_type": "execute_result"
    }
   ],
   "source": [
    "d.values()"
   ]
  },
  {
   "cell_type": "code",
   "execution_count": 110,
   "id": "e8f6ff65-3b34-4faf-93cc-e25e233ad296",
   "metadata": {},
   "outputs": [
    {
     "data": {
      "text/plain": [
       "dict_items([(1, 'abc'), (2, 'efg'), ('name', 'xyz')])"
      ]
     },
     "execution_count": 110,
     "metadata": {},
     "output_type": "execute_result"
    }
   ],
   "source": [
    "d.items()"
   ]
  },
  {
   "cell_type": "markdown",
   "id": "54915c15-dfae-4492-81ff-c44710b21bcd",
   "metadata": {},
   "source": [
    "# Mutable vs Immutable"
   ]
  },
  {
   "cell_type": "code",
   "execution_count": 111,
   "id": "79adbaeb-9e13-4390-8f1d-43d889b46719",
   "metadata": {},
   "outputs": [
    {
     "name": "stdout",
     "output_type": "stream",
     "text": [
      "Hi\n"
     ]
    }
   ],
   "source": [
    "s = 'Hi'\n",
    "\n",
    "print(s)"
   ]
  },
  {
   "cell_type": "code",
   "execution_count": 113,
   "id": "07498306-00b6-4930-ba44-67070dca99a5",
   "metadata": {},
   "outputs": [],
   "source": [
    "# s[1] = 'I'"
   ]
  },
  {
   "cell_type": "code",
   "execution_count": 118,
   "id": "9be10747-428b-4986-a981-2380ebcfd6e5",
   "metadata": {},
   "outputs": [
    {
     "name": "stdout",
     "output_type": "stream",
     "text": [
      "4339390336\n",
      "4339390336\n"
     ]
    }
   ],
   "source": [
    "# python assigns same memory address for numbers -5 to 256 \n",
    "# Python caches these commonly used integers to improve efficiency by avoiding repeated memory allocation.\n",
    "\n",
    "a = 4\n",
    "b = 4\n",
    "\n",
    "print(id(a))\n",
    "print(id(b))"
   ]
  },
  {
   "cell_type": "code",
   "execution_count": 119,
   "id": "6824c9c9-6b91-4b7b-8b2a-236edd9768ed",
   "metadata": {},
   "outputs": [
    {
     "name": "stdout",
     "output_type": "stream",
     "text": [
      "4589274064\n",
      "4589274128\n"
     ]
    }
   ],
   "source": [
    "x = 300\n",
    "y = 300\n",
    "\n",
    "print(id(x))  # Different memory addresses\n",
    "print(id(y))"
   ]
  },
  {
   "cell_type": "markdown",
   "id": "71449f15-4e44-4bda-bb8d-9e5defadeab0",
   "metadata": {},
   "source": [
    "# Summary"
   ]
  },
  {
   "cell_type": "markdown",
   "id": "1b50818d-e2d7-4d58-a6a3-fbdd901e90b8",
   "metadata": {},
   "source": [
    "### Strings\n",
    "1. String is a sequence of characters.\n",
    "2. Use index to access characters in a string.\n",
    "3. Accessing out-of-range indexes or using decimal numbers results in an error.\n",
    "4. Python supports both positive and negative indexing.\n",
    "5. Strings are immutable. Elements of strings can't be changed once assigned, but you can reassign a different string to the same variable.\n",
    "6. Strings support indexing and slicing.\n",
    "\n",
    "### Lists\n",
    "1. Sequence data structure.\n",
    "2. Used to store a collection of items.\n",
    "3. Order is preserved in a list.\n",
    "4. Mutable.\n",
    "5. Supports indexing and slicing.\n",
    "6. Dynamic, i.e., size can increase or decrease.\n",
    "\n",
    "### Tuples\n",
    "1. Similar to lists but immutable.\n",
    "2. Sequence data type.\n",
    "3. Supports indexing and slicing.\n",
    "\n",
    "### Set\n",
    "1. Unordered collection of items, i.e., can't be indexed.\n",
    "2. No duplicates allowed.\n",
    "3. Mutable.\n",
    "4. Used to perform mathematical operations like union, intersection, etc.\n",
    "\n",
    "### Dictionary\n",
    "1. Unordered collection of items, i.e., can't be indexed.\n",
    "2. Other compound data types have only values as elements, whereas a dictionary has a KEY:VALUE pair.\n",
    "3. Keys are unique, but values may not be unique.\n",
    "4. Values can be of any type, but keys must be immutable."
   ]
  },
  {
   "cell_type": "code",
   "execution_count": null,
   "id": "2d1de832-64a3-4d68-a4dc-30322c3b727a",
   "metadata": {},
   "outputs": [],
   "source": []
  }
 ],
 "metadata": {
  "kernelspec": {
   "display_name": "Python 3 (ipykernel)",
   "language": "python",
   "name": "python3"
  },
  "language_info": {
   "codemirror_mode": {
    "name": "ipython",
    "version": 3
   },
   "file_extension": ".py",
   "mimetype": "text/x-python",
   "name": "python",
   "nbconvert_exporter": "python",
   "pygments_lexer": "ipython3",
   "version": "3.12.2"
  }
 },
 "nbformat": 4,
 "nbformat_minor": 5
}
