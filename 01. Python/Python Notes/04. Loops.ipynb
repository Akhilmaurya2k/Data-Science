{
 "cells": [
  {
   "cell_type": "markdown",
   "id": "8609ab59-7ff0-4929-a07a-ee700722f502",
   "metadata": {},
   "source": [
    "# While loop"
   ]
  },
  {
   "cell_type": "code",
   "execution_count": 5,
   "id": "8c68ae7b-bbd8-4e25-b75f-ffa171777494",
   "metadata": {},
   "outputs": [
    {
     "name": "stdout",
     "output_type": "stream",
     "text": [
      "The count is:   0\n",
      "The count is:   1\n",
      "The count is:   2\n",
      "Good bye! count is:  3\n"
     ]
    }
   ],
   "source": [
    "count = 0\n",
    "while(count < 3):\n",
    "    print('The count is:  ', count)\n",
    "    count = count + 1\n",
    "print('Good bye! count is: ', count)"
   ]
  },
  {
   "cell_type": "code",
   "execution_count": 8,
   "id": "cd3790cd-5607-419d-972c-fcf1c6f56a75",
   "metadata": {},
   "outputs": [
    {
     "name": "stdout",
     "output_type": "stream",
     "text": [
      "Product = 24\n"
     ]
    }
   ],
   "source": [
    "tup = (1,2,3,4)\n",
    "\n",
    "prod = 1\n",
    "index = 0\n",
    "\n",
    "while(index < len(tup)):\n",
    "    prod *= tup[index]\n",
    "    index += 1\n",
    "\n",
    "print('Product = {}'.format(prod))"
   ]
  },
  {
   "cell_type": "markdown",
   "id": "d3a7aba8-4899-4b2e-85c5-d76a922ff206",
   "metadata": {},
   "source": [
    "# while....else"
   ]
  },
  {
   "cell_type": "code",
   "execution_count": 9,
   "id": "855c6f47-927d-423f-9374-c380265e64e0",
   "metadata": {},
   "outputs": [
    {
     "name": "stdout",
     "output_type": "stream",
     "text": [
      "No more numbers in tuple.\n",
      "Product = 120\n"
     ]
    }
   ],
   "source": [
    "tup = (1,2,3,4,5)\n",
    "\n",
    "prod = 1\n",
    "index = 0\n",
    "\n",
    "while index < len(tup):\n",
    "    prod *= tup[index]\n",
    "    index += 1\n",
    "else:\n",
    "    print('No more numbers in tuple.')\n",
    "\n",
    "print('Product = {}'.format(prod))"
   ]
  },
  {
   "cell_type": "markdown",
   "id": "6663793a-e0db-488e-b965-c00ad4034e1c",
   "metadata": {},
   "source": [
    "# Membership Operators\n",
    "**in and not in** are membership operators in Python.\n",
    "\n",
    "Used to find whether a value or variable is found in a sequence."
   ]
  },
  {
   "cell_type": "code",
   "execution_count": 10,
   "id": "55821899-cdd3-4076-9264-f4ab375a2eeb",
   "metadata": {},
   "outputs": [
    {
     "name": "stdout",
     "output_type": "stream",
     "text": [
      "False\n"
     ]
    }
   ],
   "source": [
    "lst = [1,2,3,4]\n",
    "\n",
    "print(5 in lst)"
   ]
  },
  {
   "cell_type": "code",
   "execution_count": 11,
   "id": "c908545c-4ad0-4671-b652-1d9864a9de87",
   "metadata": {},
   "outputs": [
    {
     "name": "stdout",
     "output_type": "stream",
     "text": [
      "False\n"
     ]
    }
   ],
   "source": [
    "dict = {1:'a', 2:'b'}\n",
    "\n",
    "print('a' in dict)"
   ]
  },
  {
   "cell_type": "code",
   "execution_count": 12,
   "id": "16e1e66f-0779-4673-b58f-696a1441d964",
   "metadata": {},
   "outputs": [
    {
     "name": "stdout",
     "output_type": "stream",
     "text": [
      "False\n",
      "True\n"
     ]
    }
   ],
   "source": [
    "s = 'Python'\n",
    "\n",
    "print('p' in s)\n",
    "print('P' in s)"
   ]
  },
  {
   "cell_type": "markdown",
   "id": "f765e7f6-4d7a-49fe-884e-d08ec8639b9a",
   "metadata": {},
   "source": [
    "# for loop"
   ]
  },
  {
   "cell_type": "code",
   "execution_count": 13,
   "id": "1b0620ab-2ebe-4429-9032-b88ed4826f54",
   "metadata": {},
   "outputs": [
    {
     "name": "stdout",
     "output_type": "stream",
     "text": [
      "10\n",
      "20\n",
      "30\n",
      "40\n",
      "Finish\n"
     ]
    }
   ],
   "source": [
    "tup = (10, 20, 30, 40)\n",
    "\n",
    "for x in tup:\n",
    "    print(x)\n",
    "    \n",
    "print('Finish')"
   ]
  },
  {
   "cell_type": "code",
   "execution_count": 14,
   "id": "525659c0-2b84-48f1-ab9a-a8036b004d55",
   "metadata": {},
   "outputs": [
    {
     "name": "stdout",
     "output_type": "stream",
     "text": [
      "Product = 120\n"
     ]
    }
   ],
   "source": [
    "tup = (1,2,3,4,5)\n",
    "\n",
    "prod = 1\n",
    "\n",
    "for item in tup:\n",
    "    prod *= item\n",
    "\n",
    "print('Product = {}'.format(prod))"
   ]
  },
  {
   "cell_type": "code",
   "execution_count": 17,
   "id": "34654e82-3ea8-4e05-9b27-45ff0a56ae88",
   "metadata": {},
   "outputs": [
    {
     "name": "stdout",
     "output_type": "stream",
     "text": [
      "The count is:   1\n",
      "The count is:   3\n",
      "The count is:   5\n",
      "The count is:   7\n",
      "The count is:   9\n",
      "Good bye!\n"
     ]
    }
   ],
   "source": [
    "for count in range(1, 10, 2):\n",
    "    print('The count is:  ', count)\n",
    "print('Good bye!')"
   ]
  },
  {
   "cell_type": "code",
   "execution_count": 18,
   "id": "386201eb-9751-4c1e-957d-3d5ad343d45f",
   "metadata": {},
   "outputs": [
    {
     "name": "stdout",
     "output_type": "stream",
     "text": [
      "10\n",
      "20\n",
      "30\n",
      "40\n",
      "50\n",
      "60\n"
     ]
    }
   ],
   "source": [
    "# Iterating directly element by element\n",
    "\n",
    "\n",
    "# Iterating by sequence index\n",
    "lst = [10,20,30,40,50,60]\n",
    "for index in range(len(lst)):\n",
    "    print(lst[index])"
   ]
  },
  {
   "cell_type": "code",
   "execution_count": 21,
   "id": "4cd020ba-831f-4fd3-a1be-9f307c9f65cf",
   "metadata": {},
   "outputs": [
    {
     "name": "stdout",
     "output_type": "stream",
     "text": [
      "LIST ITERATION: \n",
      "10 20 30 40 50 60 \n",
      "TUPLE ITERATION: \n",
      "10 20 30 40 50 60 \n",
      "STRING ITERATION: \n",
      "P y t h o n \n",
      "DICTIONARY ITERATION: \n",
      "xyz 123\n",
      "abc 345\n"
     ]
    }
   ],
   "source": [
    "print('LIST ITERATION: ')\n",
    "lst = [10,20,30,40,50,60]\n",
    "for element in lst:\n",
    "    print(element, end=' ')\n",
    "print()\n",
    "\n",
    "print('TUPLE ITERATION: ')\n",
    "tup = (10,20,30,40,50,60)\n",
    "for element in tup:\n",
    "    print(element, end=' ')\n",
    "print()\n",
    "\n",
    "print('STRING ITERATION: ')\n",
    "myStr = 'Python'\n",
    "for element in myStr:\n",
    "    print(element, end=' ')\n",
    "print()\n",
    "\n",
    "print('DICTIONARY ITERATION: ')\n",
    "dict = {}\n",
    "dict['xyz'] = 123\n",
    "dict['abc'] = 345\n",
    "for key in dict:\n",
    "    print(key, dict[key])"
   ]
  },
  {
   "cell_type": "markdown",
   "id": "a6f62d81-aaa7-4e39-b539-71e1fb7dff09",
   "metadata": {},
   "source": [
    "# for.....else"
   ]
  },
  {
   "cell_type": "code",
   "execution_count": 22,
   "id": "21e56a2a-20aa-4ce5-bcd3-6e0de3f4ebb1",
   "metadata": {},
   "outputs": [
    {
     "name": "stdout",
     "output_type": "stream",
     "text": [
      "You have exhausted the list\n",
      "Product = 120\n"
     ]
    }
   ],
   "source": [
    "tup = (1,2,3,4,5)\n",
    "\n",
    "prod = 1\n",
    "\n",
    "for item in tup:\n",
    "    prod *= item\n",
    "else:\n",
    "    print('You have exhausted the list')\n",
    "\n",
    "print('Product = {}'.format(prod))"
   ]
  },
  {
   "cell_type": "code",
   "execution_count": 23,
   "id": "3ff28ac4-15c2-4346-b50e-1136ddff0570",
   "metadata": {},
   "outputs": [
    {
     "name": "stdout",
     "output_type": "stream",
     "text": [
      "i: 0, j:0\n",
      "i: 0, j:1\n",
      "i: 0, j:2\n",
      "i: 1, j:0\n",
      "i: 1, j:1\n",
      "i: 1, j:2\n",
      "i: 2, j:0\n",
      "i: 2, j:1\n",
      "i: 2, j:2\n",
      "i: 3, j:0\n",
      "i: 3, j:1\n",
      "i: 3, j:2\n",
      "i: 4, j:0\n",
      "i: 4, j:1\n",
      "i: 4, j:2\n",
      "i: 5, j:0\n",
      "i: 5, j:1\n",
      "i: 5, j:2\n",
      "i: 6, j:0\n",
      "i: 6, j:1\n",
      "i: 6, j:2\n",
      "i: 7, j:0\n",
      "i: 7, j:1\n",
      "i: 7, j:2\n",
      "i: 8, j:0\n",
      "i: 8, j:1\n",
      "i: 8, j:2\n",
      "i: 9, j:0\n",
      "i: 9, j:1\n",
      "i: 9, j:2\n",
      "I am outside the while loop\n"
     ]
    }
   ],
   "source": [
    "i = 0\n",
    "\n",
    "while i < 10:\n",
    "    j = 0\n",
    "    while j < 3:\n",
    "        print('i: {}, j:{}'.format(i, j))\n",
    "        j += 1\n",
    "        \n",
    "    i += 1\n",
    "    \n",
    "print('I am outside the while loop')"
   ]
  },
  {
   "cell_type": "code",
   "execution_count": 24,
   "id": "ffb3f860-a5f0-4058-af4a-fa7996b2bcd0",
   "metadata": {},
   "outputs": [
    {
     "name": "stdout",
     "output_type": "stream",
     "text": [
      "The count is:   0\n",
      "The count is:   1\n",
      "The count is:   2\n",
      "The count is:   3\n",
      "The count is:   4\n",
      "Good bye!\n"
     ]
    }
   ],
   "source": [
    "for count in range(10):\n",
    "    if count == 5:\n",
    "        break\n",
    "    print('The count is:  ', count)\n",
    "print('Good bye!')\n",
    "# try else"
   ]
  },
  {
   "cell_type": "code",
   "execution_count": 25,
   "id": "e14071f9-f4c9-4391-88f4-bd5713648169",
   "metadata": {},
   "outputs": [
    {
     "name": "stdout",
     "output_type": "stream",
     "text": [
      "0\n",
      "1\n",
      "2\n",
      "3\n",
      "4\n",
      "6\n",
      "7\n",
      "8\n",
      "9\n",
      "Good bye!\n"
     ]
    }
   ],
   "source": [
    "for count in range(10):\n",
    "    if count == 5:\n",
    "        continue\n",
    "    print(count)\n",
    "print('Good bye!')"
   ]
  },
  {
   "cell_type": "code",
   "execution_count": 27,
   "id": "fca8c872-8629-4f8d-ae79-3bbcace58f70",
   "metadata": {},
   "outputs": [
    {
     "name": "stdin",
     "output_type": "stream",
     "text": [
      "Enter a number to check if its even or odd:  8\n"
     ]
    },
    {
     "name": "stdout",
     "output_type": "stream",
     "text": [
      "Congratulations, you entered an even number.\n"
     ]
    },
    {
     "name": "stdin",
     "output_type": "stream",
     "text": [
      "Enter a number to check if its even or odd:  5\n"
     ]
    },
    {
     "name": "stdout",
     "output_type": "stream",
     "text": [
      "Wrong Number, DUMBO!!\\nGAME OVER\n"
     ]
    }
   ],
   "source": [
    "while True:\n",
    "    num = int(input(\"Enter a number to check if its even or odd: \"))\n",
    "    if num % 2 == 0:\n",
    "        print('Congratulations, you entered an even number.')\n",
    "    else:\n",
    "        break\n",
    "print('Wrong Number, DUMBO!!\\\\nGAME OVER')"
   ]
  },
  {
   "cell_type": "code",
   "execution_count": 29,
   "id": "c470237b-bea3-4e2a-b96d-3d447b470025",
   "metadata": {},
   "outputs": [
    {
     "name": "stdout",
     "output_type": "stream",
     "text": [
      "1\n",
      "2\n",
      "3\n",
      "4\n",
      "huraaaay!\n"
     ]
    }
   ],
   "source": [
    "lst = [1,2,3,4]\n",
    "\n",
    "for item in lst:\n",
    "    if item == 9:\n",
    "        break\n",
    "    print(item)\n",
    "else:\n",
    "    print('huraaaay!')"
   ]
  },
  {
   "cell_type": "code",
   "execution_count": null,
   "id": "8236e184-db87-48b7-8fad-332b54ca87a7",
   "metadata": {},
   "outputs": [],
   "source": []
  }
 ],
 "metadata": {
  "kernelspec": {
   "display_name": "Python 3 (ipykernel)",
   "language": "python",
   "name": "python3"
  },
  "language_info": {
   "codemirror_mode": {
    "name": "ipython",
    "version": 3
   },
   "file_extension": ".py",
   "mimetype": "text/x-python",
   "name": "python",
   "nbconvert_exporter": "python",
   "pygments_lexer": "ipython3",
   "version": "3.12.2"
  }
 },
 "nbformat": 4,
 "nbformat_minor": 5
}
