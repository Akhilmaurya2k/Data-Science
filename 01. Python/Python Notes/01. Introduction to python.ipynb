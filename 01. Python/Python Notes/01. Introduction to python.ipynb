{
 "cells": [
  {
   "cell_type": "code",
   "execution_count": 1,
   "id": "750eef96-6052-4bc0-9a56-24296f82d884",
   "metadata": {},
   "outputs": [
    {
     "name": "stdout",
     "output_type": "stream",
     "text": [
      "['False', 'None', 'True', 'and', 'as', 'assert', 'async', 'await', 'break', 'class', 'continue', 'def', 'del', 'elif', 'else', 'except', 'finally', 'for', 'from', 'global', 'if', 'import', 'in', 'is', 'lambda', 'nonlocal', 'not', 'or', 'pass', 'raise', 'return', 'try', 'while', 'with', 'yield']\n",
      "35\n"
     ]
    }
   ],
   "source": [
    "import keyword\n",
    "print(keyword.kwlist);\n",
    "print(len(keyword.kwlist));"
   ]
  },
  {
   "cell_type": "code",
   "execution_count": 3,
   "id": "ec6d57d0-aabd-4ead-904c-42da43369f19",
   "metadata": {},
   "outputs": [
    {
     "name": "stdout",
     "output_type": "stream",
     "text": [
      "<class 'int'>\n",
      "<class 'float'>\n",
      "<class 'complex'>\n",
      "<class 'bool'>\n"
     ]
    }
   ],
   "source": [
    "a = 5\n",
    "\n",
    "b = 5.0\n",
    "\n",
    "c = 5 + 0j\n",
    "\n",
    "d = True\n",
    "\n",
    "print(type(a))\n",
    "\n",
    "print(type(b))\n",
    "\n",
    "print(type(c))\n",
    "\n",
    "print(type(d))"
   ]
  },
  {
   "cell_type": "code",
   "execution_count": 8,
   "id": "1470ebf5-52b4-4bc0-ad8a-f0bd040ce778",
   "metadata": {},
   "outputs": [
    {
     "data": {
      "text/plain": [
       "'\\ntesting comments \\n'"
      ]
     },
     "execution_count": 8,
     "metadata": {},
     "output_type": "execute_result"
    }
   ],
   "source": [
    "'''\n",
    "testing comments \n",
    "'''"
   ]
  },
  {
   "cell_type": "code",
   "execution_count": 9,
   "id": "d3aae2db-0e2c-4aea-9c77-46f2433cc36a",
   "metadata": {},
   "outputs": [],
   "source": [
    "a = 5\n",
    "\n",
    "b = 6\n",
    "\n",
    "c = 'string'"
   ]
  },
  {
   "cell_type": "code",
   "execution_count": 10,
   "id": "caa64aa0-de9f-4dca-9433-53c9e20aa2c7",
   "metadata": {},
   "outputs": [
    {
     "name": "stdout",
     "output_type": "stream",
     "text": [
      "5 6 string\n"
     ]
    }
   ],
   "source": [
    "print(a, b, c)"
   ]
  },
  {
   "cell_type": "code",
   "execution_count": 14,
   "id": "3005ba68-b615-48a5-a8f4-4041f7a40dfc",
   "metadata": {},
   "outputs": [
    {
     "name": "stdout",
     "output_type": "stream",
     "text": [
      "5 6 string\n",
      "5 6 string\n"
     ]
    }
   ],
   "source": [
    "# %d digit \n",
    "# %s string\n",
    "\n",
    "print('%d %d %s' % (a, b, c)) \n",
    "print('{0} {1} {2}'.format(a, b, c))"
   ]
  },
  {
   "cell_type": "code",
   "execution_count": 16,
   "id": "62773335-ce25-4594-b9e2-fb1875c62326",
   "metadata": {},
   "outputs": [
    {
     "name": "stdout",
     "output_type": "stream",
     "text": [
      "545454545454\n",
      "5 6 7\n",
      "Python 1 2\n",
      "1,2,3\n",
      "1,2,3!!123\n"
     ]
    }
   ],
   "source": [
    "# This entire statement won't be displayed\n",
    "\n",
    "print('54'*6)\n",
    "\n",
    "print(5,6,7) # sep = ' ', end = '\\n'\n",
    "\n",
    "print('Python', 1, 2)\n",
    "\n",
    "print(1,2,3, sep=',')\n",
    "\n",
    "print(1,2,3, sep=',', end='!!')\n",
    "\n",
    "print(123)"
   ]
  },
  {
   "cell_type": "code",
   "execution_count": 18,
   "id": "9d946e53-bffc-4795-a121-e81a8e0071dc",
   "metadata": {},
   "outputs": [],
   "source": [
    "# print('this line won't get displayed');"
   ]
  },
  {
   "cell_type": "code",
   "execution_count": 21,
   "id": "917da7df-b49a-471a-8f7c-12d5991eaf22",
   "metadata": {},
   "outputs": [],
   "source": [
    "# print(\"this line won\"t get displayed\");"
   ]
  },
  {
   "cell_type": "code",
   "execution_count": 22,
   "id": "00963c29-e9ec-49a4-90b3-101116fece92",
   "metadata": {},
   "outputs": [
    {
     "name": "stdout",
     "output_type": "stream",
     "text": [
      "this line won't get displayed\n"
     ]
    }
   ],
   "source": [
    "print('this line won\\'t get displayed')"
   ]
  },
  {
   "cell_type": "code",
   "execution_count": 25,
   "id": "efaea82c-ae0d-42cf-a5d9-6992e6b95b7d",
   "metadata": {},
   "outputs": [
    {
     "name": "stdout",
     "output_type": "stream",
     "text": [
      "this is\n",
      "a multi \tline \n",
      "statement\n"
     ]
    }
   ],
   "source": [
    "# \\n next line\n",
    "# \\t means tab space\n",
    "\n",
    "print('this is\\na multi \\tline \\nstatement')"
   ]
  },
  {
   "cell_type": "code",
   "execution_count": 26,
   "id": "62161fee-a5dc-48c5-b6d6-c839302a2239",
   "metadata": {},
   "outputs": [
    {
     "name": "stdout",
     "output_type": "stream",
     "text": [
      "Ram said 'this line\n",
      "won't get \n",
      "displayed' \n"
     ]
    }
   ],
   "source": [
    "print('''Ram said 'this line\n",
    "won't get \n",
    "displayed' ''')"
   ]
  },
  {
   "cell_type": "code",
   "execution_count": 35,
   "id": "14d61006-fa45-4838-82b0-f7dcfb3b4814",
   "metadata": {},
   "outputs": [
    {
     "name": "stdout",
     "output_type": "stream",
     "text": [
      "a+b =  14\n",
      "a-b =  6\n",
      "a*b =  40\n",
      "a/b =  2.5\n",
      "a%b =  2\n",
      "a//b =  2\n",
      "a**b =  10000\n"
     ]
    }
   ],
   "source": [
    "# Arithmatic Operators\n",
    "\n",
    "a = 10;\n",
    "b = 4;\n",
    "print('a+b = ', a+b);\n",
    "print('a-b = ', a-b);\n",
    "print('a*b = ', a*b);\n",
    "print('a/b = ', a/b);\n",
    "print('a%b = ', a%b);\n",
    "print('a//b = ', a//b);\n",
    "print('a**b = ', a**b);"
   ]
  },
  {
   "cell_type": "code",
   "execution_count": 36,
   "id": "8eeb77ef-599c-4758-82c7-c5d42811fd2d",
   "metadata": {},
   "outputs": [
    {
     "name": "stdout",
     "output_type": "stream",
     "text": [
      "a<b =  False\n",
      "a<=b =  False\n",
      "a>b =  True\n",
      "a>=b =  True\n"
     ]
    }
   ],
   "source": [
    "# Relational Operators\n",
    "\n",
    "a = 10;\n",
    "b = 6;\n",
    "print('a<b = ', a<b);\n",
    "print('a<=b = ', a<=b);\n",
    "print('a>b = ', a>b);\n",
    "print('a>=b = ', a>=b);"
   ]
  },
  {
   "cell_type": "code",
   "execution_count": 37,
   "id": "a02fcba7-da39-4dd0-8524-157923582caa",
   "metadata": {},
   "outputs": [
    {
     "name": "stdout",
     "output_type": "stream",
     "text": [
      "a==b  False\n",
      "a!=b  True\n"
     ]
    }
   ],
   "source": [
    "# Equality Operators\n",
    "\n",
    "a = 10;\n",
    "b = 6;\n",
    "print('a==b ', a==b);\n",
    "print('a!=b ', a!=b);"
   ]
  },
  {
   "cell_type": "code",
   "execution_count": 38,
   "id": "1ad6ec1a-b08f-4849-a662-b56ee64b522e",
   "metadata": {},
   "outputs": [
    {
     "name": "stdout",
     "output_type": "stream",
     "text": [
      "False\n",
      "True\n",
      "True\n"
     ]
    }
   ],
   "source": [
    "# Logical Operators\n",
    "\n",
    "print(5 < 6 and 6 < 6)\n",
    "\n",
    "print(5 < 6 or 6 < 6)\n",
    "\n",
    "print(not(5 < 6 and 6 < 6))"
   ]
  },
  {
   "cell_type": "code",
   "execution_count": 46,
   "id": "4bf7ced6-bf0c-4467-8c1b-3a6a5b914799",
   "metadata": {},
   "outputs": [
    {
     "name": "stdout",
     "output_type": "stream",
     "text": [
      "0\n",
      "0\n",
      "0\n",
      "1\n"
     ]
    }
   ],
   "source": [
    "# AND Gate\n",
    "\n",
    "print(0 & 0)\n",
    "print(0 & 1)\n",
    "print(1 & 0)\n",
    "print(1 & 1)"
   ]
  },
  {
   "cell_type": "code",
   "execution_count": 47,
   "id": "0d89b166-3034-4a29-9cc4-99de50866d69",
   "metadata": {},
   "outputs": [
    {
     "name": "stdout",
     "output_type": "stream",
     "text": [
      "0\n",
      "1\n",
      "1\n",
      "1\n"
     ]
    }
   ],
   "source": [
    "# OR Gate\n",
    "\n",
    "print(0 | 0)\n",
    "print(0 | 1)\n",
    "print(1 | 0)\n",
    "print(1 | 1)"
   ]
  },
  {
   "cell_type": "code",
   "execution_count": 48,
   "id": "fe61245d-56d4-4505-ac74-dfa2df412d67",
   "metadata": {},
   "outputs": [
    {
     "name": "stdout",
     "output_type": "stream",
     "text": [
      "0\n",
      "1\n",
      "1\n",
      "0\n"
     ]
    }
   ],
   "source": [
    "# XOR Gate\n",
    "\n",
    "print(0 ^ 0)\n",
    "print(0 ^ 1)\n",
    "print(1 ^ 0)\n",
    "print(1 ^ 1)"
   ]
  },
  {
   "cell_type": "code",
   "execution_count": 49,
   "id": "13cf9941-b1e2-4e4e-b035-2e78619b6da8",
   "metadata": {},
   "outputs": [
    {
     "name": "stdout",
     "output_type": "stream",
     "text": [
      "-11\n"
     ]
    }
   ],
   "source": [
    "print(~10)"
   ]
  },
  {
   "cell_type": "code",
   "execution_count": 60,
   "id": "21d1daf2-e0c5-46b0-829c-6992e0c99ad7",
   "metadata": {},
   "outputs": [
    {
     "name": "stdout",
     "output_type": "stream",
     "text": [
      "Original binary of 10: 00000000 00000000 00000000 00001010\n",
      "     Binary after ~10: 11111111 11111111 11111111 11110101\n",
      "~10 = -11\n"
     ]
    }
   ],
   "source": [
    "# Step 1: Represent 10 in binary\n",
    "print(\"Original binary of 10: 00000000 00000000 00000000 00001010\")\n",
    "\n",
    "# Step 2: Apply the bitwise NOT operation (~)\n",
    "print(\"     Binary after ~10: 11111111 11111111 11111111 11110101\")\n",
    "\n",
    "# Step 3: Output the result\n",
    "print(f\"~10 = {result}\")"
   ]
  },
  {
   "cell_type": "code",
   "execution_count": 61,
   "id": "4f908227-65fb-4dd7-bcf7-47c6878e07e7",
   "metadata": {},
   "outputs": [
    {
     "name": "stdout",
     "output_type": "stream",
     "text": [
      "20\n",
      "5\n"
     ]
    }
   ],
   "source": [
    "# Shift Operators\n",
    "\n",
    "print(10 << 1);\n",
    "\n",
    "print(10 >> 1);"
   ]
  },
  {
   "cell_type": "code",
   "execution_count": 65,
   "id": "fef3f6e6-14f7-435f-997e-e423ea5a8cac",
   "metadata": {},
   "outputs": [
    {
     "name": "stdout",
     "output_type": "stream",
     "text": [
      "Original binary of 10: 00000000 00000000 00000000 00001010\n",
      " Binary after 10 << 1: 00000000 00000000 00000000 00010100\n",
      "10 << 1 = 20\n",
      " Binary after 10 >> 1: 00000000 00000000 00000000 00000101\n",
      "10 >> 1 = 5\n"
     ]
    }
   ],
   "source": [
    "# Step 1: Represent 10 in binary\n",
    "print(\"Original binary of 10: 00000000 00000000 00000000 00001010\")\n",
    "\n",
    "# Step 2: Apply the left shift operation (<<)\n",
    "# Left shifting by 1 bit (equivalent to multiplying by 2)\n",
    "print(\" Binary after 10 << 1: 00000000 00000000 00000000 00010100\")\n",
    "print(f\"10 << 1 = {10 << 1}\")  # Output: 20\n",
    "\n",
    "# Step 3: Apply the right shift operation (>>)\n",
    "# Right shifting by 1 bit (equivalent to dividing by 2)\n",
    "print(\" Binary after 10 >> 1: 00000000 00000000 00000000 00000101\")\n",
    "print(f\"10 >> 1 = {10 >> 1}\")  # Output: 5"
   ]
  },
  {
   "cell_type": "code",
   "execution_count": 66,
   "id": "5ca05d22-119c-41a7-a702-e62b8c50e2ee",
   "metadata": {},
   "outputs": [
    {
     "name": "stdout",
     "output_type": "stream",
     "text": [
      "20\n"
     ]
    }
   ],
   "source": [
    "# Assignment Operators\n",
    "\n",
    "x = 10;\n",
    "\n",
    "x += 10;\n",
    "\n",
    "print(x);"
   ]
  },
  {
   "cell_type": "code",
   "execution_count": 67,
   "id": "70ac804c-1c44-4c8b-a8c9-3081b7d855c7",
   "metadata": {},
   "outputs": [
    {
     "name": "stdout",
     "output_type": "stream",
     "text": [
      "5 6\n"
     ]
    }
   ],
   "source": [
    "# Ternary\n",
    "\n",
    "x = 5 if (5 < 6) else 6\n",
    "\n",
    "y = 5 if (5 > 6) else 6\n",
    "\n",
    "print(x, y)"
   ]
  },
  {
   "cell_type": "code",
   "execution_count": 119,
   "id": "a6bab068-2d44-491b-b984-c48a8f1df932",
   "metadata": {},
   "outputs": [],
   "source": [
    "# Swap two numbers\n",
    "\n",
    "# Swap two numbers without using third number\n",
    "\n",
    "# Extract ith bit of a number"
   ]
  },
  {
   "cell_type": "code",
   "execution_count": 69,
   "id": "c52c7777-b1be-4cc9-b290-f1e95fadded5",
   "metadata": {},
   "outputs": [
    {
     "name": "stdout",
     "output_type": "stream",
     "text": [
      "1 2\n",
      "2 1\n"
     ]
    }
   ],
   "source": [
    "a = 1\n",
    "b = 2\n",
    "print(a,b)\n",
    "\n",
    "c = a\n",
    "\n",
    "a = b\n",
    "\n",
    "b = c\n",
    "\n",
    "print(a,b)"
   ]
  },
  {
   "cell_type": "code",
   "execution_count": 82,
   "id": "701c7e51-e3c6-4790-84ef-736c83cde7be",
   "metadata": {},
   "outputs": [],
   "source": [
    "a = 1\n",
    "b = 2\n",
    "\n",
    "a,b = b,a"
   ]
  },
  {
   "cell_type": "code",
   "execution_count": 83,
   "id": "852b7c9c-17a8-4a61-8ff4-4e3ea58ae00c",
   "metadata": {},
   "outputs": [
    {
     "name": "stdout",
     "output_type": "stream",
     "text": [
      "2 1\n"
     ]
    }
   ],
   "source": [
    "print(a,b)\n"
   ]
  },
  {
   "cell_type": "code",
   "execution_count": 97,
   "id": "290ece77-dc88-4982-bd50-f0fa01360f77",
   "metadata": {},
   "outputs": [],
   "source": [
    "a = 4\n",
    "b = 5"
   ]
  },
  {
   "cell_type": "code",
   "execution_count": 98,
   "id": "323bd7e5-a9bf-4f79-8536-7113b7d74dc0",
   "metadata": {},
   "outputs": [
    {
     "data": {
      "text/plain": [
       "9"
      ]
     },
     "execution_count": 98,
     "metadata": {},
     "output_type": "execute_result"
    }
   ],
   "source": [
    "a = a+b\n",
    "a"
   ]
  },
  {
   "cell_type": "code",
   "execution_count": 99,
   "id": "1687dd7f-0701-4fc7-bd15-86fdc00c5440",
   "metadata": {},
   "outputs": [
    {
     "data": {
      "text/plain": [
       "4"
      ]
     },
     "execution_count": 99,
     "metadata": {},
     "output_type": "execute_result"
    }
   ],
   "source": [
    "b = a-b\n",
    "b"
   ]
  },
  {
   "cell_type": "code",
   "execution_count": 100,
   "id": "5948117e-3f23-4bd8-9909-7ae6f32c8aba",
   "metadata": {},
   "outputs": [
    {
     "data": {
      "text/plain": [
       "5"
      ]
     },
     "execution_count": 100,
     "metadata": {},
     "output_type": "execute_result"
    }
   ],
   "source": [
    "a = a-b\n",
    "a"
   ]
  },
  {
   "cell_type": "code",
   "execution_count": 107,
   "id": "608819ec-cf58-49b7-9827-df75a0e4125b",
   "metadata": {},
   "outputs": [
    {
     "name": "stdout",
     "output_type": "stream",
     "text": [
      "5 -4\n"
     ]
    }
   ],
   "source": [
    "a = 1\n",
    "b = -2\n",
    "\n",
    "# Swap using XOR bitwise operation\n",
    "a = a ^ b  # XOR a and b, store the result in a\n",
    "b = a ^ b  # XOR a and b (which gives us the original value of a) and store in b\n",
    "a = a ^ b  # XOR a and b (which gives us the original value of b) and store in a\n",
    "\n",
    "print(a, b)"
   ]
  },
  {
   "cell_type": "code",
   "execution_count": 120,
   "id": "97955fe2-e943-462c-93f3-eb340480c590",
   "metadata": {},
   "outputs": [],
   "source": [
    "# Given three numbers, one of them is different. Find the different numberb                                                                                                                                                                                                                                                                                                                                                                                                                                                                                                                                                                                                                                                                                                                                                                                                                                                                                                                                                                                                                                                                                                                                                                                                                                                                                                                                                                                                                                                                                                                                                                                                                                                                                                                                                                                                                                                                                                                                                                                                                                                                                                                                                                                                                                                                                                                                                                                                                                                                                                                                                                                                                                                                                                                                                                                                                                                                                                                                                                                                                                                                                                                                                                                                                                                                                                                                                                                                                                                                                                                                                                                                                                                                                                                                                                                                                                                                                                                                                                                                                                                                                                                                                                                                                                                                                                                                                                                                                                                                                                                                                                                                                                                                                                                                                                                                                                                                                                                                                                                                                                                                                                                                                                                                                                                                                                                                                                                                                                                                                                                                                                                                                                                                                                                                                                                                                                                                                                                                                                                                                                                                                                                                                                                                                                                                                                                                                                                                                                                                                                                                                                                                                                                                                                                                                                                                                                                                                                                                                                                                                                                                                                                                                                                                                                                                                                                                                                                                                                                                                                                                                                                                                                                                                                                                                                                                                                                                                                                                                                                                                                                                                                                                                                                                                                                                                                                                                                                                                                                                                                                                                                                                                                                                                                                                                                                                                                                                                                                                                                                                                                                                                                                                                                                                                                                                                                                                                                                                                                                                                                                                                                                                                                                                                                                                                                                                                                                                                                                                                                                                                                                                                                                                                                                                                                                    "
   ]
  },
  {
   "cell_type": "code",
   "execution_count": 124,
   "id": "36b4b49b-50b7-4afd-8157-afb2ea49b8eb",
   "metadata": {},
   "outputs": [
    {
     "name": "stdout",
     "output_type": "stream",
     "text": [
      "2\n"
     ]
    }
   ],
   "source": [
    "a = 3\n",
    "b = 2\n",
    "c = 3\n",
    "\n",
    "# Example: Adding `a` and `b`, and then subtracting `c` to get a different number\n",
    "result = (a + b) - c  # result = (1 + 2) - 1 = 2\n",
    "print(result)"
   ]
  },
  {
   "cell_type": "code",
   "execution_count": null,
   "id": "09e4b432-3175-46e8-8ea2-99fd829765b0",
   "metadata": {},
   "outputs": [],
   "source": []
  }
 ],
 "metadata": {
  "kernelspec": {
   "display_name": "Python 3 (ipykernel)",
   "language": "python",
   "name": "python3"
  },
  "language_info": {
   "codemirror_mode": {
    "name": "ipython",
    "version": 3
   },
   "file_extension": ".py",
   "mimetype": "text/x-python",
   "name": "python",
   "nbconvert_exporter": "python",
   "pygments_lexer": "ipython3",
   "version": "3.12.2"
  }
 },
 "nbformat": 4,
 "nbformat_minor": 5
}
