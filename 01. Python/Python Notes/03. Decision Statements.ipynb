{
 "cells": [
  {
   "cell_type": "markdown",
   "id": "6b9a91c4-efc2-4e0f-9976-dd64f12942ac",
   "metadata": {},
   "source": [
    "# if Statements"
   ]
  },
  {
   "cell_type": "code",
   "execution_count": 1,
   "id": "ffc89a8e-6fad-4a2f-9fdb-b8a3262afdea",
   "metadata": {},
   "outputs": [
    {
     "name": "stdout",
     "output_type": "stream",
     "text": [
      "Number is positive\n",
      "This line will print always\n"
     ]
    }
   ],
   "source": [
    "num = True\n",
    "\n",
    "if(num):\n",
    "    print('Number is positive')\n",
    "\n",
    "print('This line will print always')\n",
    "\n",
    "# if -1 and 0:\n",
    "# 0, None, -ve, +ve"
   ]
  },
  {
   "cell_type": "markdown",
   "id": "f51a3aa6-1297-4197-831f-1e19f625cfaa",
   "metadata": {},
   "source": [
    "# if - else Statements"
   ]
  },
  {
   "cell_type": "code",
   "execution_count": 2,
   "id": "7f03fd73-73f3-4428-8240-f2cfbf73d22e",
   "metadata": {},
   "outputs": [
    {
     "name": "stdout",
     "output_type": "stream",
     "text": [
      "Negative\n",
      "This line will print anyways\n"
     ]
    }
   ],
   "source": [
    "num = -1\n",
    "\n",
    "if(num >= 0):\n",
    "    print('Positive')\n",
    "else:\n",
    "    print('Negative')\n",
    "print('This line will print anyways')"
   ]
  },
  {
   "cell_type": "code",
   "execution_count": 3,
   "id": "4fef19e1-2ccd-4a99-8701-b28775ef4541",
   "metadata": {},
   "outputs": [
    {
     "name": "stdout",
     "output_type": "stream",
     "text": [
      "ZERO\n"
     ]
    }
   ],
   "source": [
    "num = 0\n",
    "\n",
    "if(num > 0):\n",
    "    print('Positive')\n",
    "elif(num == 0):\n",
    "    print('ZERO')\n",
    "else:\n",
    "    print('Negative')"
   ]
  },
  {
   "cell_type": "code",
   "execution_count": 9,
   "id": "ed0752d7-ddad-472e-ba78-7cb02f90aab1",
   "metadata": {},
   "outputs": [
    {
     "name": "stdout",
     "output_type": "stream",
     "text": [
      "A grade\n"
     ]
    }
   ],
   "source": [
    "# Try 90, 78, 50, 9999\n",
    "\n",
    "grade = 95\n",
    "\n",
    "if grade >= 90 and grade<=100:\n",
    "    print(\"A grade\")\n",
    "\n",
    "elif grade >=80 and grade<=90:\n",
    "    print(\"B grade\")\n",
    "\n",
    "elif grade >=70:\n",
    "    print(\"C grade\")\n",
    "\n",
    "elif grade >= 65:\n",
    "    print(\"D grade\")\n",
    "\n",
    "else:\n",
    "    print(\"Failing grade\")"
   ]
  },
  {
   "cell_type": "markdown",
   "id": "c08e57ad-fec0-487d-af0d-56b138bba7c6",
   "metadata": {},
   "source": [
    "# Nested if - else Statements"
   ]
  },
  {
   "cell_type": "code",
   "execution_count": 13,
   "id": "cd5412d2-b87f-4426-b529-fb2b9ca78ee8",
   "metadata": {},
   "outputs": [
    {
     "name": "stdout",
     "output_type": "stream",
     "text": [
      "Zero\n"
     ]
    }
   ],
   "source": [
    "num = 0\n",
    "if num >= 0:\n",
    "    if num == 0:\n",
    "        print('Zero')\n",
    "    else:\n",
    "        print('Positive')\n",
    "else:\n",
    "    print('Negative')"
   ]
  },
  {
   "cell_type": "code",
   "execution_count": 14,
   "id": "c0f81ace-505d-4781-a4a9-29d260964ea8",
   "metadata": {},
   "outputs": [
    {
     "name": "stdout",
     "output_type": "stream",
     "text": [
      "Failing grade\n"
     ]
    }
   ],
   "source": [
    "grade = 60\n",
    "\n",
    "if grade >= 65 and grade<=100:\n",
    "    print(\"Passing grade of:\", end = ' ')\n",
    "\n",
    "    if grade >= 90:\n",
    "        print(\"A\")\n",
    "\n",
    "    elif grade >=80:\n",
    "        print(\"B\")\n",
    "\n",
    "    elif grade >=70:\n",
    "        print(\"C\")\n",
    "\n",
    "    elif grade >= 65:\n",
    "        print(\"D\")\n",
    "\n",
    "elif grade>100:\n",
    "    print('Invalid Input')\n",
    "        \n",
    "else:\n",
    "    print(\"Failing grade\")"
   ]
  },
  {
   "cell_type": "code",
   "execution_count": null,
   "id": "00b79b72-4cac-4e30-85b8-54696d4fb7eb",
   "metadata": {},
   "outputs": [],
   "source": []
  }
 ],
 "metadata": {
  "kernelspec": {
   "display_name": "Python 3 (ipykernel)",
   "language": "python",
   "name": "python3"
  },
  "language_info": {
   "codemirror_mode": {
    "name": "ipython",
    "version": 3
   },
   "file_extension": ".py",
   "mimetype": "text/x-python",
   "name": "python",
   "nbconvert_exporter": "python",
   "pygments_lexer": "ipython3",
   "version": "3.12.2"
  }
 },
 "nbformat": 4,
 "nbformat_minor": 5
}
