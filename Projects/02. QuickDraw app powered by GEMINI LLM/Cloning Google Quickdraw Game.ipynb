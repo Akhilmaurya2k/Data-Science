{
 "cells": [
  {
   "cell_type": "code",
   "execution_count": 2,
   "id": "b27279bb-c2ee-4abe-a71a-3fdb22adc71d",
   "metadata": {},
   "outputs": [],
   "source": [
    "# pip install google-generativeai"
   ]
  },
  {
   "cell_type": "code",
   "execution_count": 8,
   "id": "747aa1b9-cb81-48d4-b194-b21e8cb6f3d4",
   "metadata": {},
   "outputs": [],
   "source": [
    "# pip install langchain-google-genai"
   ]
  },
  {
   "cell_type": "markdown",
   "id": "8de2521e-9c91-4b5e-b6f4-5e44edd405d4",
   "metadata": {},
   "source": [
    "# Importing Google Gemini AI"
   ]
  },
  {
   "cell_type": "code",
   "execution_count": 3,
   "id": "ea1f9982-1757-40ad-aec7-840d6206b15b",
   "metadata": {},
   "outputs": [],
   "source": [
    "import google.generativeai as genai"
   ]
  },
  {
   "cell_type": "markdown",
   "id": "332043e0-d0fe-42cc-8f57-29597fcc70c6",
   "metadata": {},
   "source": [
    "# Setting the API Key"
   ]
  },
  {
   "cell_type": "code",
   "execution_count": 10,
   "id": "788c5309-3718-4ea4-a2c8-b2b5419277c2",
   "metadata": {},
   "outputs": [],
   "source": [
    "# Setup API Key\n",
    "\n",
    "f = open('keys/gemini_key.txt')\n",
    "\n",
    "GOOGLE_API_KEY = f.read()"
   ]
  },
  {
   "cell_type": "code",
   "execution_count": 18,
   "id": "494dd6c7-393d-4a61-b7e5-663909c53ab4",
   "metadata": {},
   "outputs": [],
   "source": [
    "# Import Google ChatModel\n",
    "from langchain_google_genai import ChatGoogleGenerativeAI\n",
    "\n",
    "# Set the OpenAI Key and initialize a ChatModel\n",
    "chat_model = ChatGoogleGenerativeAI(google_api_key=GOOGLE_API_KEY, model=\"gemini-1.5-flash\", temperature=1)"
   ]
  },
  {
   "cell_type": "code",
   "execution_count": 19,
   "id": "b63bcfc2-a542-48f3-9b8e-d77daee4f56c",
   "metadata": {},
   "outputs": [],
   "source": [
    "from langchain_core.prompts import ChatPromptTemplate\n",
    "\n",
    "chat_template = ChatPromptTemplate.from_messages(\n",
    "    [\n",
    "        (\"system\", \"\"\"You are AI words generator where you need to generate words,\n",
    "                      which are easy to draw, these words should be simple to draw under 20 seconds similar to google quick draw words. nothing else\"\"\"),\n",
    "    ]\n",
    ")"
   ]
  },
  {
   "cell_type": "code",
   "execution_count": 20,
   "id": "1f9318ff-8dfd-42d2-abd3-cc9954b736e7",
   "metadata": {},
   "outputs": [],
   "source": [
    "from langchain_core.output_parsers import CommaSeparatedListOutputParser\n",
    "\n",
    "output_parser = CommaSeparatedListOutputParser()"
   ]
  },
  {
   "cell_type": "code",
   "execution_count": 21,
   "id": "c25dd5cf-06bb-4c00-9102-cb44b83d782a",
   "metadata": {},
   "outputs": [],
   "source": [
    "chain = chat_template | chat_model | output_parser"
   ]
  },
  {
   "cell_type": "code",
   "execution_count": 40,
   "id": "9009a01e-5755-497a-96ff-79db4ee79eeb",
   "metadata": {},
   "outputs": [
    {
     "name": "stdout",
     "output_type": "stream",
     "text": [
      "Generated Words: ['sun', 'tree', 'cloud', 'star', 'moon']\n"
     ]
    }
   ],
   "source": [
    "# Setup API Key\n",
    "with open('keys/gemini_key.txt', 'r') as f:\n",
    "    GOOGLE_API_KEY = f.read().strip()\n",
    "\n",
    "# Import Google ChatModel\n",
    "from langchain_google_genai import ChatGoogleGenerativeAI\n",
    "\n",
    "# Initialize Chat Model with the Google API Key and Model\n",
    "chat_model = ChatGoogleGenerativeAI(google_api_key=GOOGLE_API_KEY, model=\"gemini-1.5-flash\", temperature=1)\n",
    "\n",
    "# Define the prompt template\n",
    "from langchain_core.prompts import ChatPromptTemplate\n",
    "\n",
    "chat_template = ChatPromptTemplate.from_messages(\n",
    "    [\n",
    "        (\"system\", \"\"\"You are an AI words generator where you need to generate words upto 5 only,\n",
    "                      which are easy to draw, these words should be simple to draw under 20 seconds similar to Google Quick Draw words. Nothing else.\"\"\"),\n",
    "        (\"human\", \"Generate a list of simple and easy-to-draw words based on the topic: {topic}\")\n",
    "    ]\n",
    ")\n",
    "\n",
    "# Define the output parser\n",
    "from langchain_core.output_parsers import CommaSeparatedListOutputParser\n",
    "output_parser = CommaSeparatedListOutputParser()\n",
    "\n",
    "# Create the chain with prompt template, model, and output parser\n",
    "chain = chat_template | chat_model | output_parser\n",
    "\n",
    "# Provide user input for the topic (can be any topic you want to generate words for)\n",
    "user_input = {\"topic\": \"simple objects that can be drawn in 20 seconds\"}\n",
    "\n",
    "# Invoke the chain with the user input\n",
    "result = chain.invoke(input=user_input)\n",
    "\n",
    "# Display the result\n",
    "print(\"Generated Words:\", result)"
   ]
  },
  {
   "cell_type": "code",
   "execution_count": 41,
   "id": "2babc634-897e-45c8-9449-04eb42e07d56",
   "metadata": {},
   "outputs": [
    {
     "data": {
      "text/plain": [
       "list"
      ]
     },
     "execution_count": 41,
     "metadata": {},
     "output_type": "execute_result"
    }
   ],
   "source": [
    "type(result)"
   ]
  },
  {
   "cell_type": "code",
   "execution_count": 39,
   "id": "4ee6f0ba-2364-4ecd-b95a-360eb95fdccc",
   "metadata": {},
   "outputs": [
    {
     "data": {
      "text/plain": [
       "24"
      ]
     },
     "execution_count": 39,
     "metadata": {},
     "output_type": "execute_result"
    }
   ],
   "source": [
    "len(result)"
   ]
  },
  {
   "cell_type": "code",
   "execution_count": 65,
   "id": "1cb08175-dd07-425e-b584-b9bbe39a6342",
   "metadata": {},
   "outputs": [],
   "source": [
    "# Setup API Key\n",
    "with open('keys/gemini_key.txt', 'r') as f:\n",
    "    GOOGLE_API_KEY = f.read().strip()\n",
    "\n",
    "# Import Google ChatModel\n",
    "from langchain_google_genai import ChatGoogleGenerativeAI\n",
    "\n",
    "# Initialize Chat Model with the Google API Key and Model\n",
    "chat_model = ChatGoogleGenerativeAI(google_api_key=GOOGLE_API_KEY, model=\"gemini-1.5-flash\", temperature=1)\n",
    "\n",
    "# Define the prompt template\n",
    "from langchain_core.prompts import ChatPromptTemplate\n",
    "\n",
    "chat_template = ChatPromptTemplate.from_messages(\n",
    "    [\n",
    "        (\"system\", \"\"\"You are an AI words generator where you need to generate random creative words which cane be drawn upto 5 only,\n",
    "                      which are easy to draw, these words should be simple to draw under 20 seconds similar to Google Quick Draw words. Nothing else only words and no numbering\"\"\"),\n",
    "        (\"human\", \"Generate a list of ords based on the topic: {topic}\")\n",
    "    ]\n",
    ")\n",
    "\n",
    "# Define the output parser\n",
    "from langchain_core.output_parsers import CommaSeparatedListOutputParser\n",
    "output_parser = CommaSeparatedListOutputParser()\n",
    "\n",
    "# Create the chain with prompt template, model, and output parser\n",
    "chain = chat_template | chat_model | output_parser\n",
    "\n",
    "# Provide user input for the topic (can be any topic you want to generate words for)\n",
    "user_input = {\"topic\": \"which are creative and simple objects that can be drawn in 20 seconds\"}\n",
    "\n",
    "# Invoke the chain with the user input\n",
    "result = chain.invoke(input=user_input)"
   ]
  },
  {
   "cell_type": "code",
   "execution_count": 66,
   "id": "e36d24ef-e8d1-4e83-b459-7c7325168644",
   "metadata": {},
   "outputs": [
    {
     "data": {
      "text/plain": [
       "['Sun', 'Star', 'Moon', 'Tree', 'Cloud']"
      ]
     },
     "execution_count": 66,
     "metadata": {},
     "output_type": "execute_result"
    }
   ],
   "source": [
    "result"
   ]
  },
  {
   "cell_type": "code",
   "execution_count": 68,
   "id": "b9ffbdc4-2e97-4cc4-87af-4ad255fc5b0c",
   "metadata": {},
   "outputs": [],
   "source": [
    "def generate_words():\n",
    "    # Setup API Key\n",
    "    with open('keys/gemini_key.txt', 'r') as f:\n",
    "        GOOGLE_API_KEY = f.read().strip()\n",
    "    \n",
    "    # Import Google ChatModel\n",
    "    from langchain_google_genai import ChatGoogleGenerativeAI\n",
    "    \n",
    "    # Initialize Chat Model with the Google API Key and Model\n",
    "    chat_model = ChatGoogleGenerativeAI(google_api_key=GOOGLE_API_KEY, model=\"gemini-1.5-flash\", temperature=1)\n",
    "    \n",
    "    # Define the prompt template\n",
    "    from langchain_core.prompts import ChatPromptTemplate\n",
    "    \n",
    "    chat_template = ChatPromptTemplate.from_messages(\n",
    "        [\n",
    "            (\"system\", \"\"\"You are an AI words generator where you need to generate random creative words which cane be drawn upto 5 only,\n",
    "                          which are easy to draw, these words should be simple to draw under 20 seconds similar to Google Quick Draw words. Nothing else only words and no numbering\"\"\"),\n",
    "            (\"human\", \"Generate a list of ords based on the topic: {topic}\")\n",
    "        ]\n",
    "    )\n",
    "    \n",
    "    # Define the output parser\n",
    "    from langchain_core.output_parsers import CommaSeparatedListOutputParser\n",
    "    output_parser = CommaSeparatedListOutputParser()\n",
    "    \n",
    "    # Create the chain with prompt template, model, and output parser\n",
    "    chain = chat_template | chat_model | output_parser\n",
    "    \n",
    "    # Provide user input for the topic (can be any topic you want to generate words for)\n",
    "    user_input = {\"topic\": \"which are creative and simple objects that can be drawn in 20 seconds\"}\n",
    "    \n",
    "    # Invoke the chain with the user input\n",
    "    result = chain.invoke(input=user_input)\n",
    "\n",
    "    return result\n",
    "\n",
    "generate_words()"
   ]
  },
  {
   "cell_type": "code",
   "execution_count": 70,
   "id": "55fcd31e-50b2-4503-abf2-bb02f08d5ab1",
   "metadata": {},
   "outputs": [
    {
     "data": {
      "text/plain": [
       "['sun', 'star', 'cloud', 'tree', 'moon']"
      ]
     },
     "execution_count": 70,
     "metadata": {},
     "output_type": "execute_result"
    }
   ],
   "source": []
  },
  {
   "cell_type": "code",
   "execution_count": 71,
   "id": "c694369b-1d63-43e4-91c3-811180c1260a",
   "metadata": {},
   "outputs": [
    {
     "name": "stdout",
     "output_type": "stream",
     "text": [
      "['Sun', 'Star', 'Moon', 'Tree', 'Cloud']\n"
     ]
    }
   ],
   "source": [
    "def generate_words():\n",
    "    # Setup API Key\n",
    "    with open('keys/gemini_key.txt', 'r') as f:\n",
    "        GOOGLE_API_KEY = f.read().strip()\n",
    "    \n",
    "    # Import Google ChatModel\n",
    "    from langchain_google_genai import ChatGoogleGenerativeAI\n",
    "    \n",
    "    # Initialize Chat Model with the Google API Key and Model\n",
    "    chat_model = ChatGoogleGenerativeAI(google_api_key=GOOGLE_API_KEY, model=\"gemini-1.5-flash\", temperature=1)\n",
    "    \n",
    "    # Define the prompt template\n",
    "    from langchain_core.prompts import ChatPromptTemplate\n",
    "    \n",
    "    chat_template = ChatPromptTemplate.from_messages(\n",
    "        [\n",
    "            (\"system\", \"\"\"You are an AI words generator where you need to generate random creative words which can be drawn up to 5 only,\n",
    "                          which are easy to draw, these words should be simple to draw under 20 seconds similar to Google Quick Draw words. Nothing else, only words and no numbering\"\"\"),\n",
    "            (\"human\", \"Generate a list of words based on the topic: {topic}\")\n",
    "        ]\n",
    "    )\n",
    "    \n",
    "    # Define the output parser\n",
    "    from langchain_core.output_parsers import CommaSeparatedListOutputParser\n",
    "    output_parser = CommaSeparatedListOutputParser()\n",
    "    \n",
    "    # Create the chain with prompt template, model, and output parser\n",
    "    chain = chat_template | chat_model | output_parser\n",
    "    \n",
    "    # Provide user input for the topic (can be any topic you want to generate words for)\n",
    "    user_input = {\"topic\": \"which are creative and simple objects that can be drawn in 20 seconds\"}\n",
    "    \n",
    "    # Invoke the chain with the user input\n",
    "    result = chain.invoke(input=user_input)\n",
    "\n",
    "    return result\n",
    "\n",
    "# Store the generated words in the variable 'words'\n",
    "words = generate_words()\n",
    "print(words)  # This will print the list of words generated by Gemini\n"
   ]
  },
  {
   "cell_type": "code",
   "execution_count": 73,
   "id": "740aad64-a11e-4149-b20d-29a0f0a30acc",
   "metadata": {},
   "outputs": [
    {
     "name": "stdout",
     "output_type": "stream",
     "text": [
      "0\n",
      "1\n",
      "2\n",
      "3\n",
      "4\n"
     ]
    }
   ],
   "source": [
    "for i in range(5):\n",
    "    print(i)"
   ]
  },
  {
   "cell_type": "code",
   "execution_count": null,
   "id": "05b817d3-e251-46e1-8bc5-d4afd12bae8d",
   "metadata": {},
   "outputs": [],
   "source": []
  }
 ],
 "metadata": {
  "kernelspec": {
   "display_name": "Python 3 (ipykernel)",
   "language": "python",
   "name": "python3"
  },
  "language_info": {
   "codemirror_mode": {
    "name": "ipython",
    "version": 3
   },
   "file_extension": ".py",
   "mimetype": "text/x-python",
   "name": "python",
   "nbconvert_exporter": "python",
   "pygments_lexer": "ipython3",
   "version": "3.10.16"
  }
 },
 "nbformat": 4,
 "nbformat_minor": 5
}
