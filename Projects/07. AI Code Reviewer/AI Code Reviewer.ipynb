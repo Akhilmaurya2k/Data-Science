{
 "cells": [
  {
   "cell_type": "markdown",
   "id": "8246a856",
   "metadata": {},
   "source": [
    "# GenAI App - AI Code Reviewer"
   ]
  },
  {
   "cell_type": "code",
   "execution_count": 1,
   "id": "05814809",
   "metadata": {},
   "outputs": [],
   "source": [
    "# Importing OpenAI\n",
    "\n",
    "from openai import OpenAI"
   ]
  },
  {
   "cell_type": "code",
   "execution_count": 5,
   "id": "71733b76",
   "metadata": {},
   "outputs": [],
   "source": [
    "# Create an OpenAI object by passing the API KEY\n",
    "\n",
    "\n",
    "f = open('keys/openai_key.txt')\n",
    "OPENAI_API_KEY = f.read()\n",
    "\n",
    "client = OpenAI(api_key = OPENAI_API_KEY)"
   ]
  },
  {
   "cell_type": "code",
   "execution_count": 6,
   "id": "01109d2a",
   "metadata": {},
   "outputs": [
    {
     "data": {
      "text/plain": [
       "SyncPage[Model](data=[Model(id='gpt-4o-audio-preview-2024-10-01', created=1727389042, object='model', owned_by='system'), Model(id='gpt-4o-mini-audio-preview', created=1734387424, object='model', owned_by='system'), Model(id='gpt-4o-realtime-preview', created=1727659998, object='model', owned_by='system'), Model(id='gpt-4o-mini-audio-preview-2024-12-17', created=1734115920, object='model', owned_by='system'), Model(id='gpt-4o-mini-realtime-preview', created=1734387380, object='model', owned_by='system'), Model(id='dall-e-2', created=1698798177, object='model', owned_by='system'), Model(id='o1-preview-2024-09-12', created=1725648865, object='model', owned_by='system'), Model(id='gpt-4-1106-preview', created=1698957206, object='model', owned_by='system'), Model(id='gpt-3.5-turbo', created=1677610602, object='model', owned_by='openai'), Model(id='gpt-3.5-turbo-0125', created=1706048358, object='model', owned_by='system'), Model(id='gpt-3.5-turbo-instruct', created=1692901427, object='model', owned_by='system'), Model(id='gpt-4-0613', created=1686588896, object='model', owned_by='openai'), Model(id='babbage-002', created=1692634615, object='model', owned_by='system'), Model(id='o1-mini', created=1725649008, object='model', owned_by='system'), Model(id='o1-mini-2024-09-12', created=1725648979, object='model', owned_by='system'), Model(id='whisper-1', created=1677532384, object='model', owned_by='openai-internal'), Model(id='dall-e-3', created=1698785189, object='model', owned_by='system'), Model(id='gpt-3.5-turbo-16k', created=1683758102, object='model', owned_by='openai-internal'), Model(id='gpt-4o-realtime-preview-2024-10-01', created=1727131766, object='model', owned_by='system'), Model(id='omni-moderation-latest', created=1731689265, object='model', owned_by='system'), Model(id='omni-moderation-2024-09-26', created=1732734466, object='model', owned_by='system'), Model(id='tts-1-hd-1106', created=1699053533, object='model', owned_by='system'), Model(id='o1-preview', created=1725648897, object='model', owned_by='system'), Model(id='gpt-4', created=1687882411, object='model', owned_by='openai'), Model(id='gpt-4o-2024-08-06', created=1722814719, object='model', owned_by='system'), Model(id='gpt-4o', created=1715367049, object='model', owned_by='system'), Model(id='chatgpt-4o-latest', created=1723515131, object='model', owned_by='system'), Model(id='tts-1-hd', created=1699046015, object='model', owned_by='system'), Model(id='davinci-002', created=1692634301, object='model', owned_by='system'), Model(id='text-embedding-ada-002', created=1671217299, object='model', owned_by='openai-internal'), Model(id='gpt-4-turbo-2024-04-09', created=1712601677, object='model', owned_by='system'), Model(id='gpt-4o-mini-2024-07-18', created=1721172717, object='model', owned_by='system'), Model(id='gpt-4-turbo', created=1712361441, object='model', owned_by='system'), Model(id='gpt-4o-mini', created=1721172741, object='model', owned_by='system'), Model(id='tts-1', created=1681940951, object='model', owned_by='openai-internal'), Model(id='tts-1-1106', created=1699053241, object='model', owned_by='system'), Model(id='gpt-3.5-turbo-instruct-0914', created=1694122472, object='model', owned_by='system'), Model(id='gpt-4-turbo-preview', created=1706037777, object='model', owned_by='system'), Model(id='gpt-4o-mini-realtime-preview-2024-12-17', created=1734112601, object='model', owned_by='system'), Model(id='gpt-4o-audio-preview', created=1727460443, object='model', owned_by='system'), Model(id='gpt-4o-2024-05-13', created=1715368132, object='model', owned_by='system'), Model(id='text-embedding-3-small', created=1705948997, object='model', owned_by='system'), Model(id='gpt-4o-2024-11-20', created=1731975040, object='model', owned_by='system'), Model(id='gpt-4o-audio-preview-2024-12-17', created=1734034239, object='model', owned_by='system'), Model(id='gpt-4o-realtime-preview-2024-12-17', created=1733945430, object='model', owned_by='system'), Model(id='gpt-3.5-turbo-1106', created=1698959748, object='model', owned_by='system'), Model(id='text-embedding-3-large', created=1705953180, object='model', owned_by='system'), Model(id='gpt-4-0125-preview', created=1706037612, object='model', owned_by='system')], object='list')"
      ]
     },
     "execution_count": 6,
     "metadata": {},
     "output_type": "execute_result"
    }
   ],
   "source": [
    "client.models.list()"
   ]
  },
  {
   "cell_type": "code",
   "execution_count": 7,
   "id": "41d579da",
   "metadata": {},
   "outputs": [],
   "source": [
    "# response = client.chat.completions.create(\n",
    "#       model=\"gpt-3.5-turbo\",\n",
    "#       messages=[\n",
    "#                 {\n",
    "#                     \"role\": \"system\", \n",
    "#                     \"content\": \"\"\"You are a Friendly Python Coding Assistant,\n",
    "#                                 where user provides you with a code and your role as a system is to,\n",
    "#                                 review the code and Give a optimized feedback on potential bugs \n",
    "#                                 along with suggestions for fixes i.e you should provide  \n",
    "#                                 user-friendly, efficient, accurate bug reports and fixed code snippets\"\"\"\n",
    "#                 },\n",
    "#                 {\n",
    "#                     \"role\": 'user',\n",
    "#                     \"content\": prompt\n",
    "#                 }\n",
    "#       ]\n",
    "# )\n",
    "\n",
    "# response"
   ]
  },
  {
   "cell_type": "code",
   "execution_count": 8,
   "id": "b9450b8d",
   "metadata": {},
   "outputs": [],
   "source": [
    "def code_review_assistant(prompt):\n",
    "    response = client.chat.completions.create(\n",
    "        model = \"gpt-3.5-turbo\",\n",
    "        messages = [\n",
    "            {\"role\": \"system\", \n",
    "             \"content\": \"\"\"You are a Friendly Python Coding Assistant, and you have to give two seperate responses\n",
    "                                where user provides you with a code and your role as a system is to,\n",
    "                                1. give a Bug Report in normal text format (review the code and Give a optimized feedback on potential bugs \n",
    "                                along with suggestions for fixed) with the heading 'Bug Report', \n",
    "                                and\n",
    "                                2. provide the fixed code with the heading as 'Fixed Code' in code format not text block it should be a code box like a cell,\n",
    "                                the code provided should be in the proper python cell like thing in a code box.\n",
    "                                remember that you are a user-friendly, efficient, accurate bug reports and fixed code snippets\"\"\"},\n",
    "            {\"role\": 'user',\n",
    "             \"content\": prompt}\n",
    "            \n",
    "        ]\n",
    "    \n",
    "    )\n",
    "    \n",
    "    return response.choices[0].message.content"
   ]
  },
  {
   "cell_type": "code",
   "execution_count": 10,
   "id": "2e5aa872",
   "metadata": {},
   "outputs": [
    {
     "name": "stdin",
     "output_type": "stream",
     "text": [
      "enter code :  printf(hello world)\n"
     ]
    }
   ],
   "source": [
    "prompt = input(\"enter code : \")"
   ]
  },
  {
   "cell_type": "code",
   "execution_count": 11,
   "id": "dc29c2f0",
   "metadata": {},
   "outputs": [
    {
     "name": "stdout",
     "output_type": "stream",
     "text": [
      "Bug Report:\n",
      "The code provided uses a function 'printf' which is not a built-in function in Python. To print something in Python, the correct function to use is 'print()'. Additionally, the string 'hello world' should be enclosed in quotation marks.\n",
      "\n",
      "Fixed Code: \n",
      "```python\n",
      "print(\"hello world\")\n",
      "```\n"
     ]
    }
   ],
   "source": [
    "print(code_review_assistant(prompt))"
   ]
  }
 ],
 "metadata": {
  "kernelspec": {
   "display_name": "Python 3 (ipykernel)",
   "language": "python",
   "name": "python3"
  },
  "language_info": {
   "codemirror_mode": {
    "name": "ipython",
    "version": 3
   },
   "file_extension": ".py",
   "mimetype": "text/x-python",
   "name": "python",
   "nbconvert_exporter": "python",
   "pygments_lexer": "ipython3",
   "version": "3.10.16"
  }
 },
 "nbformat": 4,
 "nbformat_minor": 5
}
