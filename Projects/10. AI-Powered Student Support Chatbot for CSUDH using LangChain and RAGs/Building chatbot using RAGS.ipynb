{
 "cells": [
  {
   "cell_type": "markdown",
   "id": "8b8be685-39df-472a-aef5-e3520709e9d4",
   "metadata": {},
   "source": [
    "# Objective: Automate Tier-1 customer support using GenAI."
   ]
  },
  {
   "cell_type": "markdown",
   "id": "5a6cc408-bdd1-422c-8083-cd92211f37c3",
   "metadata": {},
   "source": [
    "### URL"
   ]
  },
  {
   "cell_type": "code",
   "execution_count": 1,
   "id": "eaeb0d91-2c74-4142-8c64-a83d6aa15f48",
   "metadata": {},
   "outputs": [],
   "source": [
    "# Tuples of (URL, desired_filename_without_extension)\n",
    "url_filename_pairs = [\n",
    "    ('https://www.csudh.edu/csc/programs/computer-science-programs/ms-computer-science/', 'MSCS_program'),\n",
    "    ('https://www.csudh.edu/csc/programs/cyber-security-programs/ms-cyber-security/', 'MSCY_program'),\n",
    "    ('https://www.csudh.edu/financial-aid/', 'financial_aid'),\n",
    "    ('https://www.csudh.edu/csc/faculty-staff/', 'csc_faculty_staff'),\n",
    "    ('https://csudh.scholarships.ngwebsolutions.com/Scholarships/Search', 'scholarships_search')\n",
    "]"
   ]
  },
  {
   "cell_type": "code",
   "execution_count": 2,
   "id": "b0fac545-7616-43ca-8297-8ce8acd7c503",
   "metadata": {},
   "outputs": [],
   "source": [
    "local_html_file_paths = []"
   ]
  },
  {
   "cell_type": "code",
   "execution_count": 3,
   "id": "e74b7619-d27b-4934-86dc-7c27b7602799",
   "metadata": {},
   "outputs": [],
   "source": [
    "import requests\n",
    "from bs4 import BeautifulSoup\n",
    "import os\n",
    "from langchain_community.document_loaders import UnstructuredHTMLLoader, PyPDFLoader"
   ]
  },
  {
   "cell_type": "code",
   "execution_count": 4,
   "id": "71bf6a04-36ae-4d52-ac0d-79766541d48f",
   "metadata": {},
   "outputs": [],
   "source": [
    "# html_output_dir = \"html_files\"\n",
    "# os.makedirs(html_output_dir, exist_ok=True)\n",
    "\n",
    "# for url, base_filename in url_filename_pairs:\n",
    "#     try:\n",
    "#         print(f\"Fetching URL: {url}\")\n",
    "#         response = requests.get(url)\n",
    "#         html_code = response.text\n",
    "#         soup = BeautifulSoup(html_code, \"html.parser\")\n",
    "\n",
    "#         file_path = os.path.join(html_output_dir, f\"{base_filename}.html\")\n",
    "\n",
    "#         with open(file_path, \"w\", encoding=\"utf-8\") as f:\n",
    "#             f.write(str(soup)) # Using str(soup) as per your example\n",
    "\n",
    "#         local_html_file_paths.append(file_path)\n",
    "#         print(f\"Saved HTML from {url} to {file_path}\")\n",
    "\n",
    "#     except Exception as e: # Basic error catching\n",
    "#         print(f\"An error occurred while processing {url}: {e}\")"
   ]
  },
  {
   "cell_type": "code",
   "execution_count": 5,
   "id": "3695f4b4-7470-4909-8e9c-5c8c14e2ec69",
   "metadata": {},
   "outputs": [
    {
     "name": "stdout",
     "output_type": "stream",
     "text": [
      "Looking for HTML files in: html_files\n",
      "Processing HTML file: html_files/financial_aid.html\n",
      "  -> Loaded 1 document(s) from this file.\n",
      "Processing HTML file: html_files/scholarships_search.html\n",
      "  -> Loaded 1 document(s) from this file.\n",
      "Processing HTML file: html_files/MSCY_program.html\n",
      "  -> Loaded 1 document(s) from this file.\n",
      "Processing HTML file: html_files/csc_faculty_staff.html\n",
      "  -> Loaded 1 document(s) from this file.\n",
      "Processing HTML file: html_files/MSCS_program.html\n",
      "  -> Loaded 1 document(s) from this file.\n",
      "\n",
      "Total documents loaded from all HTML files: 5\n"
     ]
    }
   ],
   "source": [
    "from langchain_community.document_loaders import UnstructuredHTMLLoader\n",
    "import os # To list files in the directory\n",
    "\n",
    "html_files_directory = \"html_files\"  # The directory where your HTML files are stored\n",
    "all_html_documents = []          # A list to hold all the loaded HTML content\n",
    "\n",
    "print(f\"Looking for HTML files in: {html_files_directory}\")\n",
    "\n",
    "# Get a list of all files in the directory\n",
    "try:\n",
    "    filenames_in_directory = os.listdir(html_files_directory)\n",
    "except FileNotFoundError:\n",
    "    print(f\"Error: Directory '{html_files_directory}' not found. Please ensure it exists and contains your HTML files.\")\n",
    "    filenames_in_directory = [] # Avoid further errors\n",
    "\n",
    "# Loop through each filename\n",
    "for filename in filenames_in_directory:\n",
    "    # Check if the file is an HTML file\n",
    "    if filename.endswith(\".html\"):\n",
    "        full_file_path = os.path.join(html_files_directory, filename)\n",
    "        print(f\"Processing HTML file: {full_file_path}\")\n",
    "        \n",
    "        # Your simple loading code, applied to the current file\n",
    "        loader = UnstructuredHTMLLoader(full_file_path)\n",
    "        data = loader.load()  # This returns a list of Document objects\n",
    "        \n",
    "        all_html_documents.extend(data) # Add the loaded document(s) to our main list\n",
    "        print(f\"  -> Loaded {len(data)} document(s) from this file.\")\n",
    "\n",
    "print(f\"\\nTotal documents loaded from all HTML files: {len(all_html_documents)}\")"
   ]
  },
  {
   "cell_type": "markdown",
   "id": "0c8a7897-ec44-42b5-ab05-abf5b8a13e72",
   "metadata": {},
   "source": [
    "### PDF's"
   ]
  },
  {
   "cell_type": "code",
   "execution_count": 6,
   "id": "8a6cebe8-c60d-4bf1-a3ce-063c8159122d",
   "metadata": {},
   "outputs": [],
   "source": [
    "# Your list of PDF file paths\n",
    "pdf_files_to_load = [\n",
    "    \"data/BACT-Brochure.pdf\",\n",
    "    \"data/BSCS-Brochure.pdf\",\n",
    "    \"data/BSIT-Brochure.pdf\",\n",
    "    \"data/MSCS-Brochure.pdf\",\n",
    "    \"data/MSCY-Brochure.pdf\",\n",
    "    \"data/Office Hours.pdf\"\n",
    "]"
   ]
  },
  {
   "cell_type": "code",
   "execution_count": 7,
   "id": "4988c8aa-ca31-4ba8-a733-dc772fcc9165",
   "metadata": {},
   "outputs": [
    {
     "name": "stdout",
     "output_type": "stream",
     "text": [
      "Processing PDF: data/BACT-Brochure.pdf\n",
      "  -> Loaded 4 page(s).\n",
      "Processing PDF: data/BSCS-Brochure.pdf\n"
     ]
    },
    {
     "name": "stderr",
     "output_type": "stream",
     "text": [
      "Ignoring wrong pointing object 8 0 (offset 0)\n",
      "Ignoring wrong pointing object 11 0 (offset 0)\n",
      "Ignoring wrong pointing object 13 0 (offset 0)\n",
      "Ignoring wrong pointing object 18 0 (offset 0)\n",
      "Ignoring wrong pointing object 30 0 (offset 0)\n",
      "Ignoring wrong pointing object 11 0 (offset 0)\n",
      "Ignoring wrong pointing object 14 0 (offset 0)\n",
      "Ignoring wrong pointing object 16 0 (offset 0)\n",
      "Ignoring wrong pointing object 18 0 (offset 0)\n",
      "Ignoring wrong pointing object 22 0 (offset 0)\n",
      "Ignoring wrong pointing object 35 0 (offset 0)\n"
     ]
    },
    {
     "name": "stdout",
     "output_type": "stream",
     "text": [
      "  -> Loaded 3 page(s).\n",
      "Processing PDF: data/BSIT-Brochure.pdf\n",
      "  -> Loaded 2 page(s).\n",
      "Processing PDF: data/MSCS-Brochure.pdf\n",
      "  -> Loaded 4 page(s).\n",
      "Processing PDF: data/MSCY-Brochure.pdf\n",
      "  -> Loaded 4 page(s).\n",
      "Processing PDF: data/Office Hours.pdf\n",
      "  -> Loaded 3 page(s).\n",
      "\n",
      "Total pages loaded from all PDF files: 20\n"
     ]
    }
   ],
   "source": [
    "from langchain_community.document_loaders import PyPDFLoader\n",
    "\n",
    "\n",
    "all_pdf_pages = [] # This will store all the loaded pages\n",
    "\n",
    "# Loop through each PDF file path\n",
    "for pdf_path in pdf_files_to_load:\n",
    "    print(f\"Processing PDF: {pdf_path}\")\n",
    "    loader = PyPDFLoader(pdf_path)\n",
    "    pages = loader.load_and_split() # Loads and splits by page\n",
    "    all_pdf_pages.extend(pages)\n",
    "    print(f\"  -> Loaded {len(pages)} page(s).\")\n",
    "\n",
    "print(f\"\\nTotal pages loaded from all PDF files: {len(all_pdf_pages)}\")"
   ]
  },
  {
   "cell_type": "code",
   "execution_count": 8,
   "id": "8d096c8f-4d60-4738-b59f-3549194618be",
   "metadata": {},
   "outputs": [
    {
     "name": "stdout",
     "output_type": "stream",
     "text": [
      "Total HTML documents loaded: 5\n",
      "Total PDF pages loaded: 20\n",
      "Combined total documents/pages: 25\n"
     ]
    }
   ],
   "source": [
    "# Combine the lists of documents\n",
    "all_documents = all_html_documents + all_pdf_pages\n",
    "\n",
    "# Verify the total number of documents\n",
    "print(f\"Total HTML documents loaded: {len(all_html_documents)}\")\n",
    "print(f\"Total PDF pages loaded: {len(all_pdf_pages)}\")\n",
    "print(f\"Combined total documents/pages: {len(all_documents)}\")"
   ]
  },
  {
   "cell_type": "code",
   "execution_count": 9,
   "id": "983c6946-1cdc-4444-a974-2fe83c815cdc",
   "metadata": {},
   "outputs": [
    {
     "name": "stdout",
     "output_type": "stream",
     "text": [
      "Length of the final combined string: 195029 characters.\n"
     ]
    }
   ],
   "source": [
    "all_documents_combined = all_html_documents + all_pdf_pages\n",
    "\n",
    "content_list = [doc.page_content for doc in all_documents_combined]\n",
    "final_combined_text = \"\\n\\n\".join(content_list)\n",
    "\n",
    "print(f\"Length of the final combined string: {len(final_combined_text)} characters.\")"
   ]
  },
  {
   "cell_type": "markdown",
   "id": "19bbe229-eee1-43f6-95ef-2b35f1189b3b",
   "metadata": {},
   "source": [
    "## chunking"
   ]
  },
  {
   "cell_type": "code",
   "execution_count": 10,
   "id": "a3f8d41a-064b-4083-9a55-c80818e3d1e4",
   "metadata": {},
   "outputs": [],
   "source": [
    "from langchain.text_splitter import RecursiveCharacterTextSplitter\n",
    "\n",
    "text_splitter = RecursiveCharacterTextSplitter(\n",
    "    separators=[\"\\n\\n\", \"\\n\", \".\", \" \", \"\"],\n",
    "    chunk_size=1000,\n",
    "    chunk_overlap=200\n",
    ")\n",
    "\n",
    "chunks = text_splitter.create_documents([final_combined_text])"
   ]
  },
  {
   "cell_type": "code",
   "execution_count": 11,
   "id": "6406d199-8e67-498e-8a79-de992436e3cc",
   "metadata": {},
   "outputs": [
    {
     "name": "stdout",
     "output_type": "stream",
     "text": [
      "Type of variable: <class 'list'>\n",
      "\n",
      "Type of each object inside the list: <class 'langchain_core.documents.base.Document'>\n",
      "\n",
      "Total number of documents inside list: 261\n",
      "\n",
      "* Content of first chunk: The CSUDH\n",
      "\n",
      "Skip to content\n",
      "\n",
      "Checkmark Icon\n",
      "\n",
      "APPLY\n",
      "\n",
      "\n",
      "* Content of second chunk: The Financial Aid Application is Now Open:\n",
      "\n",
      "Applic\n"
     ]
    }
   ],
   "source": [
    "# Check the output\n",
    "\n",
    "print(\"Type of variable:\", type(chunks))  \n",
    "print()\n",
    "print(\"Type of each object inside the list:\", type(chunks[0]))  \n",
    "print()\n",
    "print(\"Total number of documents inside list:\", len(chunks))\n",
    "print()\n",
    "print(\"* Content of first chunk:\", chunks[0].page_content[:50])  \n",
    "print()\n",
    "print(\"* Content of second chunk:\", chunks[1].page_content[:50]) "
   ]
  },
  {
   "cell_type": "code",
   "execution_count": 12,
   "id": "2bbafeb3-f365-468d-a240-cd8d3b92bb43",
   "metadata": {},
   "outputs": [],
   "source": [
    "# print(chunks[1].page_content)"
   ]
  },
  {
   "cell_type": "markdown",
   "id": "49c32586-284d-4fbe-b126-4c294c954401",
   "metadata": {},
   "source": [
    "## 5. Creating Vector Store"
   ]
  },
  {
   "cell_type": "markdown",
   "id": "1d9f99d1-cc56-4304-b2b4-33ac85fc2ff4",
   "metadata": {},
   "source": [
    "### 5.1 Initialize an Embedding Model"
   ]
  },
  {
   "cell_type": "code",
   "execution_count": 13,
   "id": "e1558943-1141-4ece-985e-4e14396c179c",
   "metadata": {},
   "outputs": [],
   "source": [
    "# pip install langchain_huggingface"
   ]
  },
  {
   "cell_type": "code",
   "execution_count": 1,
   "id": "25c2aaa8-ac93-4507-b153-09a10b411107",
   "metadata": {},
   "outputs": [],
   "source": [
    "f = open('keys/openai_key.txt')\n",
    "\n",
    "OPENAI_API_KEY = f.read()"
   ]
  },
  {
   "cell_type": "code",
   "execution_count": 2,
   "id": "9a1844f4-d3ec-405f-ae9f-cf63476578b3",
   "metadata": {},
   "outputs": [],
   "source": [
    "# Step 1 - Initialize an embedding_model\n",
    "\n",
    "from langchain_openai import OpenAIEmbeddings\n",
    "\n",
    "embedding_model = OpenAIEmbeddings(openai_api_key=OPENAI_API_KEY)"
   ]
  },
  {
   "cell_type": "markdown",
   "id": "c7b4c4cd-c324-4231-83b4-02f9a5b8cdcd",
   "metadata": {},
   "source": [
    "### 5.2 Setting a Connection with the ChromaDB"
   ]
  },
  {
   "cell_type": "code",
   "execution_count": 3,
   "id": "3c213633-be4c-4957-8e47-c7fff7d045a2",
   "metadata": {},
   "outputs": [],
   "source": [
    "# Step 2 - Initialize a ChromaDB Connection\n",
    "from langchain_chroma import Chroma\n",
    "\n",
    "# Initialize the database connection\n",
    "# If database exist, it will connect with the collection_name and persist_directory\n",
    "# Otherwise a new collection will be created\n",
    "\n",
    "db = Chroma(collection_name=\"vector_database\", \n",
    "            embedding_function=embedding_model, \n",
    "            persist_directory=\"./chroma_db_\")"
   ]
  },
  {
   "cell_type": "code",
   "execution_count": 5,
   "id": "00376bcf-6b7a-4728-a53a-8aeb512a0cab",
   "metadata": {},
   "outputs": [],
   "source": [
    "# Initially the database is empty\n",
    "\n",
    "# db.get()"
   ]
  },
  {
   "cell_type": "markdown",
   "id": "f98989a4-b980-4839-9b69-48e0e49de03a",
   "metadata": {},
   "source": [
    "### 5.3 Add Chunks to Vector DB"
   ]
  },
  {
   "cell_type": "code",
   "execution_count": 6,
   "id": "8be9d238-80f3-4a48-8fc7-872d86f3cf73",
   "metadata": {},
   "outputs": [],
   "source": [
    "# db.add_documents(chunks)"
   ]
  },
  {
   "cell_type": "code",
   "execution_count": 7,
   "id": "dd4f8372-9aa7-4b37-90b8-69a5b4156dc9",
   "metadata": {},
   "outputs": [],
   "source": [
    "# db.get()"
   ]
  },
  {
   "cell_type": "markdown",
   "id": "037e988c-e0b9-41e8-926b-3ffd93befa09",
   "metadata": {},
   "source": [
    "## 6. Create Retriever"
   ]
  },
  {
   "cell_type": "code",
   "execution_count": 8,
   "id": "1c5fdc72-3332-4356-8ede-c9ac06b29c1c",
   "metadata": {},
   "outputs": [
    {
     "name": "stdout",
     "output_type": "stream",
     "text": [
      "<class 'langchain_core.vectorstores.base.VectorStoreRetriever'>\n"
     ]
    }
   ],
   "source": [
    "# Converting CHROMA db connection to Retriever Object\n",
    "retriever = db.as_retriever(search_type=\"similarity\", search_kwargs={\"k\": 10})\n",
    "\n",
    "print(type(retriever))"
   ]
  },
  {
   "cell_type": "code",
   "execution_count": 9,
   "id": "bfbdc135-7083-4260-b674-fa2bedc219fc",
   "metadata": {},
   "outputs": [],
   "source": [
    "query = \"What is the minimum gpa required?\"\n",
    "\n",
    "# retriever.invoke(query)"
   ]
  },
  {
   "cell_type": "markdown",
   "id": "e1f7c373-28bf-43ac-a0e5-ca3368d9a9c9",
   "metadata": {},
   "source": [
    "## 7. Prompt Template"
   ]
  },
  {
   "cell_type": "code",
   "execution_count": 10,
   "id": "5c2c0000-8b9e-4b37-91af-03e49f43d206",
   "metadata": {},
   "outputs": [],
   "source": [
    "# Initialize a Chat Prompt Template\n",
    "\n",
    "from langchain_core.prompts import ChatPromptTemplate\n",
    "\n",
    "PROMPT_TEMPLATE = \"\"\"\n",
    "Answer the question based only on the following context for the MS in Computer Science \n",
    "program at CSUDH: {context} Answer the question based on the above context: {question}. \n",
    "Provide a detailed answer. \n",
    "Do not provide any information beyond what is included in the context.\n",
    "\"\"\"\n",
    "\n",
    "prompt_template = ChatPromptTemplate.from_template(PROMPT_TEMPLATE)"
   ]
  },
  {
   "cell_type": "markdown",
   "id": "63afe8d1-2c35-4a54-b101-d2284b40966b",
   "metadata": {},
   "source": [
    "## 8. LLM"
   ]
  },
  {
   "cell_type": "code",
   "execution_count": 11,
   "id": "ef9226f8-5751-4a23-b385-93a39e47988f",
   "metadata": {},
   "outputs": [],
   "source": [
    "# Open the file containing your OpenAI API key\n",
    "with open('keys/openai_key.txt', 'r') as f:\n",
    "    OPENAI_API_KEY = f.read().strip()"
   ]
  },
  {
   "cell_type": "code",
   "execution_count": 12,
   "id": "c4771442-d08a-48e0-86aa-896c5e4eedc1",
   "metadata": {},
   "outputs": [],
   "source": [
    "# Import OpenAI ChatModel\n",
    "from langchain_openai import ChatOpenAI\n",
    "\n",
    "# Set the OpenAI Key and initialize a ChatModel\n",
    "chat_model = ChatOpenAI(api_key=OPENAI_API_KEY, model=\"gpt-4o-mini\", temperature=1)"
   ]
  },
  {
   "cell_type": "markdown",
   "id": "7d64ab95-40d0-4630-b092-82ea9754e6d4",
   "metadata": {},
   "source": [
    "## 9. Output Parser"
   ]
  },
  {
   "cell_type": "code",
   "execution_count": 13,
   "id": "07563c26-9f66-4b56-9989-e117b0278db8",
   "metadata": {},
   "outputs": [],
   "source": [
    "# Initialize a Output Parser\n",
    "\n",
    "from langchain_core.output_parsers import StrOutputParser\n",
    "\n",
    "parser = StrOutputParser()"
   ]
  },
  {
   "cell_type": "markdown",
   "id": "ddd37745-48e8-4d77-b1b9-2caa0888cced",
   "metadata": {},
   "source": [
    "## 10. Chaining"
   ]
  },
  {
   "cell_type": "code",
   "execution_count": 14,
   "id": "ace5e806-af6e-4b13-a6e1-81d021ecd135",
   "metadata": {},
   "outputs": [],
   "source": [
    "# Step 6: Define a RAG Chain\n",
    "\n",
    "from langchain_core.runnables import RunnablePassthrough\n",
    "\n",
    "def format_docs(docs):\n",
    "    return \"\\n\\n\".join(doc.page_content for doc in docs)\n",
    "    \n",
    "rag_chain = {\"context\": retriever | format_docs, \"question\": RunnablePassthrough()} | prompt_template | chat_model | parser"
   ]
  },
  {
   "cell_type": "markdown",
   "id": "8df9fa3d-ac9f-4fc6-b2d4-c3b27d6f5574",
   "metadata": {},
   "source": [
    "## 11. invoking the RAG Pipeline"
   ]
  },
  {
   "cell_type": "code",
   "execution_count": 17,
   "id": "06481f2b-907a-481c-aacf-a43cac07f8e0",
   "metadata": {},
   "outputs": [
    {
     "name": "stdout",
     "output_type": "stream",
     "text": [
      "Dr. Mohsen Beheshti, the Department Chair, holds his office hours on the following days and times:\n",
      "\n",
      "- **Tuesday:** 1:00 PM – 3:00 PM (available in person or via ZOOM by appointment)\n",
      "- **Friday:** 5:30 PM - 7:30 PM (available via ZOOM by appointment)\n",
      "\n",
      "His office is located in **NSM A-132** and his phone number is **310-243-3398**. Additionally, you can reach him via email at **mbeheshti@csudh.edu**.\n"
     ]
    }
   ],
   "source": [
    "query = \"what is the office hours of mohsen beheshti\"\n",
    "\n",
    "output = rag_chain.invoke(query)\n",
    "\n",
    "print(output)"
   ]
  },
  {
   "cell_type": "code",
   "execution_count": null,
   "id": "65eb43db-d032-429d-bffd-0761f987c194",
   "metadata": {},
   "outputs": [],
   "source": []
  }
 ],
 "metadata": {
  "kernelspec": {
   "display_name": "Python 3 (ipykernel)",
   "language": "python",
   "name": "python3"
  },
  "language_info": {
   "codemirror_mode": {
    "name": "ipython",
    "version": 3
   },
   "file_extension": ".py",
   "mimetype": "text/x-python",
   "name": "python",
   "nbconvert_exporter": "python",
   "pygments_lexer": "ipython3",
   "version": "3.11.8"
  }
 },
 "nbformat": 4,
 "nbformat_minor": 5
}
