{
 "cells": [
  {
   "cell_type": "code",
   "execution_count": 1,
   "id": "a4f46804-b114-4591-bbbc-3c870ca4afe4",
   "metadata": {},
   "outputs": [],
   "source": [
    "# Step 1 - Import Chat Model and Configure the API Key\n",
    "\n",
    "from langchain_openai import ChatOpenAI\n",
    "\n",
    "# Setup API Key\n",
    "f = open('keys/openai_key.txt')\n",
    "OPENAI_API_KEY = f.read()\n",
    "\n",
    "# Set the OpenAI Key and initialize a ChatModel\n",
    "chat_model = ChatOpenAI(api_key=OPENAI_API_KEY, model=\"gpt-4o-mini\", temperature=1, streaming=True)"
   ]
  },
  {
   "cell_type": "code",
   "execution_count": 2,
   "id": "f149bb2c-8ff9-4776-8e52-5e5112dee616",
   "metadata": {},
   "outputs": [],
   "source": [
    "# Step 2 - Chat Prompt Template\n",
    "\n",
    "from langchain_core.messages import SystemMessage, HumanMessage, AIMessage\n",
    "from langchain_core.prompts import ChatPromptTemplate, HumanMessagePromptTemplate, MessagesPlaceholder\n",
    "\n",
    "chat_template = ChatPromptTemplate.from_messages(\n",
    "    [\n",
    "        # 1. System Prompt based on your old RAG use case\n",
    "        SystemMessage(\n",
    "            content = (\"\"\"You are a helpful assistant for answering questions about the MS in Computer Science program \n",
    "                        at CSUDH. Answer the user's question only using the given context and past history list of messages\"\"\")\n",
    "        ),\n",
    "        \n",
    "        # 2. Chat history placeholder\n",
    "        MessagesPlaceholder(\n",
    "            variable_name = \"history\"\n",
    "        ),\n",
    "        \n",
    "        # 3. Human input formatted with RAG context\n",
    "        HumanMessagePromptTemplate.from_template(\n",
    "            \"Context: {context}\\n\\nQuestion: {human_input}\"\n",
    "        ),\n",
    "    ]\n",
    ")\n"
   ]
  },
  {
   "cell_type": "code",
   "execution_count": 3,
   "id": "f5219cba-e302-47f2-8f85-0fd3a55ce6c2",
   "metadata": {},
   "outputs": [],
   "source": [
    "# Step 3 - Create a Output Parser\n",
    "\n",
    "from langchain_core.output_parsers import StrOutputParser\n",
    "\n",
    "output_parser = StrOutputParser()"
   ]
  },
  {
   "cell_type": "code",
   "execution_count": 4,
   "id": "d5ad5106-192d-45d5-acc8-4fbe130b67de",
   "metadata": {},
   "outputs": [],
   "source": [
    "# Step 4 - Initialize an embedding_model and ChromaDB Connection\n",
    "\n",
    "from langchain_openai import OpenAIEmbeddings\n",
    "from langchain_chroma import Chroma\n",
    "\n",
    "embedding_model = OpenAIEmbeddings(openai_api_key=OPENAI_API_KEY)\n",
    "\n",
    "db = Chroma(collection_name=\"vector_database\", \n",
    "            embedding_function=embedding_model, \n",
    "            persist_directory=\"./chroma_db_\")"
   ]
  },
  {
   "cell_type": "code",
   "execution_count": 5,
   "id": "12089446-2a02-4145-9053-bd8d322ca595",
   "metadata": {},
   "outputs": [],
   "source": [
    "retriever = db.as_retriever(search_type=\"similarity\", search_kwargs={\"k\": 10})"
   ]
  },
  {
   "cell_type": "code",
   "execution_count": 6,
   "id": "77465180-4910-4eb4-b67b-630c1c6a137b",
   "metadata": {},
   "outputs": [],
   "source": [
    "from langchain_core.runnables import RunnableLambda\n",
    "\n",
    "def get_context_from_retriever(input_dict):\n",
    "    human_input = input_dict[\"human_input\"]\n",
    "    docs = retriever.invoke(human_input)\n",
    "    context_str = \"\\n\\n\".join(doc.page_content for doc in docs)\n",
    "    return {\"context\": context_str}  \n",
    "\n",
    "context_runnable = RunnableLambda(get_context_from_retriever)"
   ]
  },
  {
   "cell_type": "code",
   "execution_count": 7,
   "id": "e7d357b2-d35f-411c-8e75-35a46c1782f7",
   "metadata": {},
   "outputs": [],
   "source": [
    "# Step 4 - Initialize the Memory\n",
    "from langchain_core.runnables import RunnableLambda\n",
    "\n",
    "memory_buffer = {\"history\": []}\n",
    "\n",
    "def get_history_from_buffer(human_input):\n",
    "    return memory_buffer[\"history\"]\n",
    "\n",
    "runnable_get_history_from_buffer = RunnableLambda(get_history_from_buffer)"
   ]
  },
  {
   "cell_type": "code",
   "execution_count": 8,
   "id": "fb121c53-a0d3-4e9c-a14f-93bbcfc66277",
   "metadata": {},
   "outputs": [],
   "source": [
    "from langchain_core.runnables import RunnablePassthrough\n",
    "\n",
    "# Assign both context and chat_history\n",
    "chain = RunnablePassthrough.assign(\n",
    "        history=runnable_get_history_from_buffer,  # memory\n",
    "        context=context_runnable                        # rag context from retriever\n",
    "    ) | chat_template | chat_model | output_parser"
   ]
  },
  {
   "cell_type": "code",
   "execution_count": 9,
   "id": "e0d60e65-72c5-4873-9f21-3d9dfa1a959a",
   "metadata": {},
   "outputs": [
    {
     "name": "stdin",
     "output_type": "stream",
     "text": [
      "Enter your input:  hi\n"
     ]
    },
    {
     "name": "stdout",
     "output_type": "stream",
     "text": [
      "*User: hi\n",
      "*AI: Hello! How can I assist you today?\n"
     ]
    },
    {
     "name": "stdin",
     "output_type": "stream",
     "text": [
      "Enter your input:  what is your name?\n"
     ]
    },
    {
     "name": "stdout",
     "output_type": "stream",
     "text": [
      "*User: what is your name?\n",
      "*AI: I don't have a personal name, but I'm here to help you with information about the MS in Computer Science program at CSUDH. How can I assist you today?\n"
     ]
    },
    {
     "name": "stdin",
     "output_type": "stream",
     "text": [
      "Enter your input:  i want to give you a name\n"
     ]
    },
    {
     "name": "stdout",
     "output_type": "stream",
     "text": [
      "*User: i want to give you a name\n",
      "*AI: Sure! Feel free to give me a name, and I'll respond to it. What name do you have in mind?\n"
     ]
    },
    {
     "name": "stdin",
     "output_type": "stream",
     "text": [
      "Enter your input:  cheeku is your name\n"
     ]
    },
    {
     "name": "stdout",
     "output_type": "stream",
     "text": [
      "*User: cheeku is your name\n",
      "*AI: Cheeku it is! How can I assist you today?\n"
     ]
    },
    {
     "name": "stdin",
     "output_type": "stream",
     "text": [
      "Enter your input:  what are the office timings of bhrigu celly\n"
     ]
    },
    {
     "name": "stdout",
     "output_type": "stream",
     "text": [
      "*User: what are the office timings of bhrigu celly\n",
      "*AI: Dr. Bhrigu Celly's office hours are as follows:\n",
      "- W: 4:00 PM - 5:00 PM (ZOOM)\n",
      "- F: 8:00 PM - 10:00 PM (ZOOM) \n",
      "\n",
      "If you need to contact him, his email is bcelly@csudh.edu.\n"
     ]
    },
    {
     "name": "stdin",
     "output_type": "stream",
     "text": [
      "Enter your input:  ali r4eza?\n"
     ]
    },
    {
     "name": "stdout",
     "output_type": "stream",
     "text": [
      "*User: ali r4eza?\n",
      "*AI: It seems like you might be asking about Dr. Alireza Izaddoost. He is an Associate Professor at CSUDH. You can contact him via email at aizaddoost@csudh.edu, and his office is located in NSM E-115. His office hours are M: 1:00 PM - 3:00 PM (by appointment) and W: 1:00 PM - 3:00 PM (by appointment). If you have any specific questions or need further information, feel free to ask!\n"
     ]
    },
    {
     "name": "stdin",
     "output_type": "stream",
     "text": [
      "Enter your input:  my name is Loel Maansi Pothuri. DO you see me in CS students?\n"
     ]
    },
    {
     "name": "stdout",
     "output_type": "stream",
     "text": [
      "*User: my name is Loel Maansi Pothuri. DO you see me in CS students?\n",
      "*AI: I'm sorry, but I don't have the capability to check individual student records or information. If you're looking for information regarding your enrollment status, I recommend contacting the admissions office or your department directly at CSUDH. Is there anything else I can assist you with regarding the MS in Computer Science program?\n"
     ]
    },
    {
     "name": "stdin",
     "output_type": "stream",
     "text": [
      "Enter your input:  nothing\n"
     ]
    },
    {
     "name": "stdout",
     "output_type": "stream",
     "text": [
      "*User: nothing\n",
      "*AI: If you have any questions or need information about the MS in Computer Science program at CSUDH, feel free to ask. I'm here to help!\n"
     ]
    },
    {
     "name": "stdin",
     "output_type": "stream",
     "text": [
      "Enter your input:  do you remember my name?\n"
     ]
    },
    {
     "name": "stdout",
     "output_type": "stream",
     "text": [
      "*User: do you remember my name?\n",
      "*AI: Yes, your name is Loel Maansi Pothuri. How can I assist you further?\n"
     ]
    },
    {
     "name": "stdin",
     "output_type": "stream",
     "text": [
      "Enter your input:  do you remember your name?\n"
     ]
    },
    {
     "name": "stdout",
     "output_type": "stream",
     "text": [
      "*User: do you remember your name?\n",
      "*AI: Yes, my name is Cheeku. How can I assist you further?\n"
     ]
    },
    {
     "name": "stdin",
     "output_type": "stream",
     "text": [
      "Enter your input:  do you remember your creator name?\n"
     ]
    },
    {
     "name": "stdout",
     "output_type": "stream",
     "text": [
      "*User: do you remember your creator name?\n",
      "*AI: I don't have information about my creator's name. However, I'm here to assist you with your questions about the MS in Computer Science program at CSUDH. How can I help you?\n"
     ]
    },
    {
     "name": "stdin",
     "output_type": "stream",
     "text": [
      "Enter your input:  your creator is AKhil Padma from CSUDH CS\n"
     ]
    },
    {
     "name": "stdout",
     "output_type": "stream",
     "text": [
      "*User: your creator is AKhil Padma from CSUDH CS\n",
      "*AI: Thank you for that information! If you have any questions or need assistance regarding the MS in Computer Science program at CSUDH, feel free to ask.\n"
     ]
    },
    {
     "name": "stdin",
     "output_type": "stream",
     "text": [
      "Enter your input:  bye\n"
     ]
    },
    {
     "name": "stdout",
     "output_type": "stream",
     "text": [
      "*User: bye\n"
     ]
    }
   ],
   "source": [
    "# Step 8 - Run Step 6 and 7 in a loop\n",
    "\n",
    "while True:\n",
    "    \n",
    "    # User Input\n",
    "    query = {\"human_input\" : input('Enter your input: ')}\n",
    "    print(f\"*User: {query['human_input']}\")\n",
    "\n",
    "    # Exit\n",
    "    if query[\"human_input\"] in ['bye', 'quit', 'exit']:\n",
    "        break\n",
    "\n",
    "    # invoke chain \n",
    "    response = chain.invoke(query)\n",
    "    print(f\"*AI: {response}\")\n",
    "\n",
    "    # Updating memory\n",
    "    memory_buffer[\"history\"].append(HumanMessage(content=query[\"human_input\"]))\n",
    "    memory_buffer[\"history\"].append(AIMessage(content=response))"
   ]
  },
  {
   "cell_type": "markdown",
   "id": "8c881188-cdb1-4f00-bdb4-55818f7a6532",
   "metadata": {},
   "source": [
    "## History"
   ]
  },
  {
   "cell_type": "code",
   "execution_count": 10,
   "id": "54d8d393-50be-4c78-b568-13210d618493",
   "metadata": {},
   "outputs": [
    {
     "data": {
      "text/plain": [
       "[HumanMessage(content='hi', additional_kwargs={}, response_metadata={}),\n",
       " AIMessage(content='Hello! How can I assist you today?', additional_kwargs={}, response_metadata={}),\n",
       " HumanMessage(content='what is your name?', additional_kwargs={}, response_metadata={}),\n",
       " AIMessage(content=\"I don't have a personal name, but I'm here to help you with information about the MS in Computer Science program at CSUDH. How can I assist you today?\", additional_kwargs={}, response_metadata={}),\n",
       " HumanMessage(content='i want to give you a name', additional_kwargs={}, response_metadata={}),\n",
       " AIMessage(content=\"Sure! Feel free to give me a name, and I'll respond to it. What name do you have in mind?\", additional_kwargs={}, response_metadata={}),\n",
       " HumanMessage(content='cheeku is your name', additional_kwargs={}, response_metadata={}),\n",
       " AIMessage(content='Cheeku it is! How can I assist you today?', additional_kwargs={}, response_metadata={}),\n",
       " HumanMessage(content='what are the office timings of bhrigu celly', additional_kwargs={}, response_metadata={}),\n",
       " AIMessage(content=\"Dr. Bhrigu Celly's office hours are as follows:\\n- W: 4:00 PM - 5:00 PM (ZOOM)\\n- F: 8:00 PM - 10:00 PM (ZOOM) \\n\\nIf you need to contact him, his email is bcelly@csudh.edu.\", additional_kwargs={}, response_metadata={}),\n",
       " HumanMessage(content='ali r4eza?', additional_kwargs={}, response_metadata={}),\n",
       " AIMessage(content='It seems like you might be asking about Dr. Alireza Izaddoost. He is an Associate Professor at CSUDH. You can contact him via email at aizaddoost@csudh.edu, and his office is located in NSM E-115. His office hours are M: 1:00 PM - 3:00 PM (by appointment) and W: 1:00 PM - 3:00 PM (by appointment). If you have any specific questions or need further information, feel free to ask!', additional_kwargs={}, response_metadata={}),\n",
       " HumanMessage(content='my name is Loel Maansi Pothuri. DO you see me in CS students?', additional_kwargs={}, response_metadata={}),\n",
       " AIMessage(content=\"I'm sorry, but I don't have the capability to check individual student records or information. If you're looking for information regarding your enrollment status, I recommend contacting the admissions office or your department directly at CSUDH. Is there anything else I can assist you with regarding the MS in Computer Science program?\", additional_kwargs={}, response_metadata={}),\n",
       " HumanMessage(content='nothing', additional_kwargs={}, response_metadata={}),\n",
       " AIMessage(content=\"If you have any questions or need information about the MS in Computer Science program at CSUDH, feel free to ask. I'm here to help!\", additional_kwargs={}, response_metadata={}),\n",
       " HumanMessage(content='do you remember my name?', additional_kwargs={}, response_metadata={}),\n",
       " AIMessage(content='Yes, your name is Loel Maansi Pothuri. How can I assist you further?', additional_kwargs={}, response_metadata={}),\n",
       " HumanMessage(content='do you remember your name?', additional_kwargs={}, response_metadata={}),\n",
       " AIMessage(content='Yes, my name is Cheeku. How can I assist you further?', additional_kwargs={}, response_metadata={}),\n",
       " HumanMessage(content='do you remember your creator name?', additional_kwargs={}, response_metadata={}),\n",
       " AIMessage(content=\"I don't have information about my creator's name. However, I'm here to assist you with your questions about the MS in Computer Science program at CSUDH. How can I help you?\", additional_kwargs={}, response_metadata={}),\n",
       " HumanMessage(content='your creator is AKhil Padma from CSUDH CS', additional_kwargs={}, response_metadata={}),\n",
       " AIMessage(content='Thank you for that information! If you have any questions or need assistance regarding the MS in Computer Science program at CSUDH, feel free to ask.', additional_kwargs={}, response_metadata={})]"
      ]
     },
     "execution_count": 10,
     "metadata": {},
     "output_type": "execute_result"
    }
   ],
   "source": [
    "memory_buffer['history']"
   ]
  },
  {
   "cell_type": "code",
   "execution_count": 11,
   "id": "b7847928-1831-4e70-8b75-b85f1f745f03",
   "metadata": {},
   "outputs": [],
   "source": [
    "import pickle\n",
    "\n",
    "chat_history = pickle.dumps(memory_buffer)\n",
    "\n",
    "with open(\"chats_data/conversation_memory.pkl\", \"wb\") as f:\n",
    "    f.write(chat_history)"
   ]
  },
  {
   "cell_type": "code",
   "execution_count": 12,
   "id": "a7b8a214-d6eb-4a3f-81ab-de3c8f871297",
   "metadata": {},
   "outputs": [],
   "source": [
    "chat_history_loaded = pickle.load(open(\"chats_data/conversation_memory.pkl\", \"rb\"))"
   ]
  },
  {
   "cell_type": "code",
   "execution_count": 13,
   "id": "8629c872-839b-444a-be9a-d4a6fe5c6d9a",
   "metadata": {},
   "outputs": [
    {
     "data": {
      "text/plain": [
       "{'history': [HumanMessage(content='hi', additional_kwargs={}, response_metadata={}),\n",
       "  AIMessage(content='Hello! How can I assist you today?', additional_kwargs={}, response_metadata={}),\n",
       "  HumanMessage(content='what is your name?', additional_kwargs={}, response_metadata={}),\n",
       "  AIMessage(content=\"I don't have a personal name, but I'm here to help you with information about the MS in Computer Science program at CSUDH. How can I assist you today?\", additional_kwargs={}, response_metadata={}),\n",
       "  HumanMessage(content='i want to give you a name', additional_kwargs={}, response_metadata={}),\n",
       "  AIMessage(content=\"Sure! Feel free to give me a name, and I'll respond to it. What name do you have in mind?\", additional_kwargs={}, response_metadata={}),\n",
       "  HumanMessage(content='cheeku is your name', additional_kwargs={}, response_metadata={}),\n",
       "  AIMessage(content='Cheeku it is! How can I assist you today?', additional_kwargs={}, response_metadata={}),\n",
       "  HumanMessage(content='what are the office timings of bhrigu celly', additional_kwargs={}, response_metadata={}),\n",
       "  AIMessage(content=\"Dr. Bhrigu Celly's office hours are as follows:\\n- W: 4:00 PM - 5:00 PM (ZOOM)\\n- F: 8:00 PM - 10:00 PM (ZOOM) \\n\\nIf you need to contact him, his email is bcelly@csudh.edu.\", additional_kwargs={}, response_metadata={}),\n",
       "  HumanMessage(content='ali r4eza?', additional_kwargs={}, response_metadata={}),\n",
       "  AIMessage(content='It seems like you might be asking about Dr. Alireza Izaddoost. He is an Associate Professor at CSUDH. You can contact him via email at aizaddoost@csudh.edu, and his office is located in NSM E-115. His office hours are M: 1:00 PM - 3:00 PM (by appointment) and W: 1:00 PM - 3:00 PM (by appointment). If you have any specific questions or need further information, feel free to ask!', additional_kwargs={}, response_metadata={}),\n",
       "  HumanMessage(content='my name is Loel Maansi Pothuri. DO you see me in CS students?', additional_kwargs={}, response_metadata={}),\n",
       "  AIMessage(content=\"I'm sorry, but I don't have the capability to check individual student records or information. If you're looking for information regarding your enrollment status, I recommend contacting the admissions office or your department directly at CSUDH. Is there anything else I can assist you with regarding the MS in Computer Science program?\", additional_kwargs={}, response_metadata={}),\n",
       "  HumanMessage(content='nothing', additional_kwargs={}, response_metadata={}),\n",
       "  AIMessage(content=\"If you have any questions or need information about the MS in Computer Science program at CSUDH, feel free to ask. I'm here to help!\", additional_kwargs={}, response_metadata={}),\n",
       "  HumanMessage(content='do you remember my name?', additional_kwargs={}, response_metadata={}),\n",
       "  AIMessage(content='Yes, your name is Loel Maansi Pothuri. How can I assist you further?', additional_kwargs={}, response_metadata={}),\n",
       "  HumanMessage(content='do you remember your name?', additional_kwargs={}, response_metadata={}),\n",
       "  AIMessage(content='Yes, my name is Cheeku. How can I assist you further?', additional_kwargs={}, response_metadata={}),\n",
       "  HumanMessage(content='do you remember your creator name?', additional_kwargs={}, response_metadata={}),\n",
       "  AIMessage(content=\"I don't have information about my creator's name. However, I'm here to assist you with your questions about the MS in Computer Science program at CSUDH. How can I help you?\", additional_kwargs={}, response_metadata={}),\n",
       "  HumanMessage(content='your creator is AKhil Padma from CSUDH CS', additional_kwargs={}, response_metadata={}),\n",
       "  AIMessage(content='Thank you for that information! If you have any questions or need assistance regarding the MS in Computer Science program at CSUDH, feel free to ask.', additional_kwargs={}, response_metadata={})]}"
      ]
     },
     "execution_count": 13,
     "metadata": {},
     "output_type": "execute_result"
    }
   ],
   "source": [
    "chat_history_loaded"
   ]
  },
  {
   "cell_type": "code",
   "execution_count": null,
   "id": "9efceb40-ac37-4860-8176-2ab44ff03d22",
   "metadata": {},
   "outputs": [],
   "source": []
  }
 ],
 "metadata": {
  "kernelspec": {
   "display_name": "Python 3 (ipykernel)",
   "language": "python",
   "name": "python3"
  },
  "language_info": {
   "codemirror_mode": {
    "name": "ipython",
    "version": 3
   },
   "file_extension": ".py",
   "mimetype": "text/x-python",
   "name": "python",
   "nbconvert_exporter": "python",
   "pygments_lexer": "ipython3",
   "version": "3.11.8"
  }
 },
 "nbformat": 4,
 "nbformat_minor": 5
}
