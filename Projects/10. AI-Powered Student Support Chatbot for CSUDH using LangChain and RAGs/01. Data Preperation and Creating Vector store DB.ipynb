{
 "cells": [
  {
   "cell_type": "markdown",
   "id": "971d5399-7c8a-421f-887a-1a5c0183dc1b",
   "metadata": {},
   "source": [
    "# Data Preperation and Creating Vector store DB for CSUDH Chatbot using RAGS"
   ]
  },
  {
   "cell_type": "markdown",
   "id": "66684db8-6637-4473-b7a1-aa60417db3cf",
   "metadata": {
    "jp-MarkdownHeadingCollapsed": true
   },
   "source": [
    "#### **Steps**\n",
    "1. Data collection\n",
    "2. Chunking\n",
    "3. Creating Vector Store\n",
    "    - Initialize Embedding Model \n",
    "    - Setting a Connection with the ChromaDB\n",
    "    - Add Chunks to Vector DB"
   ]
  },
  {
   "cell_type": "markdown",
   "id": "052ea109-eb13-4e25-b25b-b79a8764b6d2",
   "metadata": {
    "jp-MarkdownHeadingCollapsed": true
   },
   "source": [
    "## 01. Data Collection"
   ]
  },
  {
   "cell_type": "markdown",
   "id": "5a6cc408-bdd1-422c-8083-cd92211f37c3",
   "metadata": {
    "jp-MarkdownHeadingCollapsed": true
   },
   "source": [
    "### 01. Extract data from URL's"
   ]
  },
  {
   "cell_type": "code",
   "execution_count": 1,
   "id": "eaeb0d91-2c74-4142-8c64-a83d6aa15f48",
   "metadata": {},
   "outputs": [],
   "source": [
    "# Tuples of (URL, desired_filename_without_extension)\n",
    "url_filename_pairs = [\n",
    "    ('https://www.csudh.edu/csc/programs/computer-science-programs/ms-computer-science/', 'MSCS_program'),\n",
    "    ('https://www.csudh.edu/csc/programs/cyber-security-programs/ms-cyber-security/', 'MSCY_program'),\n",
    "    ('https://www.csudh.edu/financial-aid/', 'financial_aid'),\n",
    "    ('https://www.csudh.edu/csc/faculty-staff/', 'csc_faculty_staff'),\n",
    "    ('https://csudh.scholarships.ngwebsolutions.com/Scholarships/Search', 'scholarships_search')\n",
    "]"
   ]
  },
  {
   "cell_type": "code",
   "execution_count": 2,
   "id": "b0fac545-7616-43ca-8297-8ce8acd7c503",
   "metadata": {},
   "outputs": [],
   "source": [
    "local_html_file_paths = []"
   ]
  },
  {
   "cell_type": "code",
   "execution_count": 3,
   "id": "e74b7619-d27b-4934-86dc-7c27b7602799",
   "metadata": {},
   "outputs": [],
   "source": [
    "import requests\n",
    "from bs4 import BeautifulSoup\n",
    "import os\n",
    "from langchain_community.document_loaders import UnstructuredHTMLLoader, PyPDFLoader"
   ]
  },
  {
   "cell_type": "code",
   "execution_count": 5,
   "id": "3695f4b4-7470-4909-8e9c-5c8c14e2ec69",
   "metadata": {},
   "outputs": [
    {
     "name": "stdout",
     "output_type": "stream",
     "text": [
      "Looking for HTML files in: html_files\n",
      "Processing HTML file: html_files/financial_aid.html\n",
      "  -> Loaded 1 document(s) from this file.\n",
      "Processing HTML file: html_files/scholarships_search.html\n",
      "  -> Loaded 1 document(s) from this file.\n",
      "Processing HTML file: html_files/MSCY_program.html\n",
      "  -> Loaded 1 document(s) from this file.\n",
      "Processing HTML file: html_files/csc_faculty_staff.html\n",
      "  -> Loaded 1 document(s) from this file.\n",
      "Processing HTML file: html_files/MSCS_program.html\n",
      "  -> Loaded 1 document(s) from this file.\n",
      "\n",
      "Total documents loaded from all HTML files: 5\n"
     ]
    }
   ],
   "source": [
    "from langchain_community.document_loaders import UnstructuredHTMLLoader\n",
    "import os # To list files in the directory\n",
    "\n",
    "html_files_directory = \"html_files\"  # The directory where your HTML files are stored\n",
    "all_html_documents = []          # A list to hold all the loaded HTML content\n",
    "\n",
    "print(f\"Looking for HTML files in: {html_files_directory}\")\n",
    "\n",
    "# Get a list of all files in the directory\n",
    "try:\n",
    "    filenames_in_directory = os.listdir(html_files_directory)\n",
    "except FileNotFoundError:\n",
    "    print(f\"Error: Directory '{html_files_directory}' not found. Please ensure it exists and contains your HTML files.\")\n",
    "    filenames_in_directory = [] # Avoid further errors\n",
    "\n",
    "# Loop through each filename\n",
    "for filename in filenames_in_directory:\n",
    "    # Check if the file is an HTML file\n",
    "    if filename.endswith(\".html\"):\n",
    "        full_file_path = os.path.join(html_files_directory, filename)\n",
    "        print(f\"Processing HTML file: {full_file_path}\")\n",
    "        \n",
    "        # Your simple loading code, applied to the current file\n",
    "        loader = UnstructuredHTMLLoader(full_file_path)\n",
    "        data = loader.load()  # This returns a list of Document objects\n",
    "        \n",
    "        all_html_documents.extend(data) # Add the loaded document(s) to our main list\n",
    "        print(f\"  -> Loaded {len(data)} document(s) from this file.\")\n",
    "\n",
    "print(f\"\\nTotal documents loaded from all HTML files: {len(all_html_documents)}\")"
   ]
  },
  {
   "cell_type": "markdown",
   "id": "0c8a7897-ec44-42b5-ab05-abf5b8a13e72",
   "metadata": {
    "jp-MarkdownHeadingCollapsed": true
   },
   "source": [
    "### 02. Extract data from PDF's"
   ]
  },
  {
   "cell_type": "code",
   "execution_count": 6,
   "id": "8a6cebe8-c60d-4bf1-a3ce-063c8159122d",
   "metadata": {},
   "outputs": [],
   "source": [
    "# Your list of PDF file paths\n",
    "pdf_files_to_load = [\n",
    "    \"data/BACT-Brochure.pdf\",\n",
    "    \"data/BSCS-Brochure.pdf\",\n",
    "    \"data/BSIT-Brochure.pdf\",\n",
    "    \"data/MSCS-Brochure.pdf\",\n",
    "    \"data/MSCY-Brochure.pdf\",\n",
    "    \"data/Office Hours.pdf\"\n",
    "]"
   ]
  },
  {
   "cell_type": "code",
   "execution_count": 7,
   "id": "4988c8aa-ca31-4ba8-a733-dc772fcc9165",
   "metadata": {},
   "outputs": [
    {
     "name": "stdout",
     "output_type": "stream",
     "text": [
      "Processing PDF: data/BACT-Brochure.pdf\n",
      "  -> Loaded 4 page(s).\n",
      "Processing PDF: data/BSCS-Brochure.pdf\n"
     ]
    },
    {
     "name": "stderr",
     "output_type": "stream",
     "text": [
      "Ignoring wrong pointing object 8 0 (offset 0)\n",
      "Ignoring wrong pointing object 11 0 (offset 0)\n",
      "Ignoring wrong pointing object 13 0 (offset 0)\n",
      "Ignoring wrong pointing object 18 0 (offset 0)\n",
      "Ignoring wrong pointing object 30 0 (offset 0)\n",
      "Ignoring wrong pointing object 11 0 (offset 0)\n",
      "Ignoring wrong pointing object 14 0 (offset 0)\n",
      "Ignoring wrong pointing object 16 0 (offset 0)\n",
      "Ignoring wrong pointing object 18 0 (offset 0)\n",
      "Ignoring wrong pointing object 22 0 (offset 0)\n",
      "Ignoring wrong pointing object 35 0 (offset 0)\n"
     ]
    },
    {
     "name": "stdout",
     "output_type": "stream",
     "text": [
      "  -> Loaded 3 page(s).\n",
      "Processing PDF: data/BSIT-Brochure.pdf\n",
      "  -> Loaded 2 page(s).\n",
      "Processing PDF: data/MSCS-Brochure.pdf\n",
      "  -> Loaded 4 page(s).\n",
      "Processing PDF: data/MSCY-Brochure.pdf\n",
      "  -> Loaded 4 page(s).\n",
      "Processing PDF: data/Office Hours.pdf\n",
      "  -> Loaded 3 page(s).\n",
      "\n",
      "Total pages loaded from all PDF files: 20\n"
     ]
    }
   ],
   "source": [
    "from langchain_community.document_loaders import PyPDFLoader\n",
    "\n",
    "\n",
    "all_pdf_pages = [] # This will store all the loaded pages\n",
    "\n",
    "# Loop through each PDF file path\n",
    "for pdf_path in pdf_files_to_load:\n",
    "    print(f\"Processing PDF: {pdf_path}\")\n",
    "    loader = PyPDFLoader(pdf_path)\n",
    "    pages = loader.load_and_split() # Loads and splits by page\n",
    "    all_pdf_pages.extend(pages)\n",
    "    print(f\"  -> Loaded {len(pages)} page(s).\")\n",
    "\n",
    "print(f\"\\nTotal pages loaded from all PDF files: {len(all_pdf_pages)}\")"
   ]
  },
  {
   "cell_type": "code",
   "execution_count": 8,
   "id": "8d096c8f-4d60-4738-b59f-3549194618be",
   "metadata": {},
   "outputs": [
    {
     "name": "stdout",
     "output_type": "stream",
     "text": [
      "Total HTML documents loaded: 5\n",
      "Total PDF pages loaded: 20\n",
      "Combined total documents/pages: 25\n"
     ]
    }
   ],
   "source": [
    "# Combine the lists of documents\n",
    "all_documents = all_html_documents + all_pdf_pages\n",
    "\n",
    "# Verify the total number of documents\n",
    "print(f\"Total HTML documents loaded: {len(all_html_documents)}\")\n",
    "print(f\"Total PDF pages loaded: {len(all_pdf_pages)}\")\n",
    "print(f\"Combined total documents/pages: {len(all_documents)}\")"
   ]
  },
  {
   "cell_type": "code",
   "execution_count": 9,
   "id": "983c6946-1cdc-4444-a974-2fe83c815cdc",
   "metadata": {},
   "outputs": [
    {
     "name": "stdout",
     "output_type": "stream",
     "text": [
      "Length of the final combined string: 195029 characters.\n"
     ]
    }
   ],
   "source": [
    "all_documents_combined = all_html_documents + all_pdf_pages\n",
    "\n",
    "content_list = [doc.page_content for doc in all_documents_combined]\n",
    "final_combined_text = \"\\n\\n\".join(content_list)\n",
    "\n",
    "print(f\"Length of the final combined string: {len(final_combined_text)} characters.\")"
   ]
  },
  {
   "cell_type": "markdown",
   "id": "19bbe229-eee1-43f6-95ef-2b35f1189b3b",
   "metadata": {
    "jp-MarkdownHeadingCollapsed": true
   },
   "source": [
    "## 02. Chunking"
   ]
  },
  {
   "cell_type": "code",
   "execution_count": 10,
   "id": "a3f8d41a-064b-4083-9a55-c80818e3d1e4",
   "metadata": {},
   "outputs": [],
   "source": [
    "from langchain.text_splitter import RecursiveCharacterTextSplitter\n",
    "\n",
    "text_splitter = RecursiveCharacterTextSplitter(\n",
    "    separators=[\"\\n\\n\", \"\\n\", \".\", \" \", \"\"],\n",
    "    chunk_size=1000,\n",
    "    chunk_overlap=200\n",
    ")\n",
    "\n",
    "chunks = text_splitter.create_documents([final_combined_text])"
   ]
  },
  {
   "cell_type": "code",
   "execution_count": 11,
   "id": "6406d199-8e67-498e-8a79-de992436e3cc",
   "metadata": {},
   "outputs": [
    {
     "name": "stdout",
     "output_type": "stream",
     "text": [
      "Type of variable: <class 'list'>\n",
      "\n",
      "Type of each object inside the list: <class 'langchain_core.documents.base.Document'>\n",
      "\n",
      "Total number of documents inside list: 261\n",
      "\n",
      "* Content of first chunk: The CSUDH\n",
      "\n",
      "Skip to content\n",
      "\n",
      "Checkmark Icon\n",
      "\n",
      "APPLY\n",
      "\n",
      "\n",
      "* Content of second chunk: The Financial Aid Application is Now Open:\n",
      "\n",
      "Applic\n"
     ]
    }
   ],
   "source": [
    "# Check the output\n",
    "\n",
    "print(\"Type of variable:\", type(chunks))  \n",
    "print()\n",
    "print(\"Type of each object inside the list:\", type(chunks[0]))  \n",
    "print()\n",
    "print(\"Total number of documents inside list:\", len(chunks))\n",
    "print()\n",
    "print(\"* Content of first chunk:\", chunks[0].page_content[:50])  \n",
    "print()\n",
    "print(\"* Content of second chunk:\", chunks[1].page_content[:50]) "
   ]
  },
  {
   "cell_type": "code",
   "execution_count": 12,
   "id": "2bbafeb3-f365-468d-a240-cd8d3b92bb43",
   "metadata": {},
   "outputs": [],
   "source": [
    "# print(chunks[1].page_content)"
   ]
  },
  {
   "cell_type": "markdown",
   "id": "49c32586-284d-4fbe-b126-4c294c954401",
   "metadata": {},
   "source": [
    "## 03. Creating Vector Store"
   ]
  },
  {
   "cell_type": "markdown",
   "id": "1d9f99d1-cc56-4304-b2b4-33ac85fc2ff4",
   "metadata": {
    "jp-MarkdownHeadingCollapsed": true
   },
   "source": [
    "### 3.1 Initialize an Embedding Model"
   ]
  },
  {
   "cell_type": "code",
   "execution_count": 13,
   "id": "e1558943-1141-4ece-985e-4e14396c179c",
   "metadata": {},
   "outputs": [],
   "source": [
    "# pip install langchain_huggingface"
   ]
  },
  {
   "cell_type": "code",
   "execution_count": 1,
   "id": "25c2aaa8-ac93-4507-b153-09a10b411107",
   "metadata": {},
   "outputs": [],
   "source": [
    "f = open('keys/openai_key.txt')\n",
    "\n",
    "OPENAI_API_KEY = f.read()"
   ]
  },
  {
   "cell_type": "code",
   "execution_count": 2,
   "id": "9a1844f4-d3ec-405f-ae9f-cf63476578b3",
   "metadata": {},
   "outputs": [],
   "source": [
    "# Step 1 - Initialize an embedding_model\n",
    "\n",
    "from langchain_openai import OpenAIEmbeddings\n",
    "\n",
    "embedding_model = OpenAIEmbeddings(openai_api_key=OPENAI_API_KEY)"
   ]
  },
  {
   "cell_type": "markdown",
   "id": "c7b4c4cd-c324-4231-83b4-02f9a5b8cdcd",
   "metadata": {
    "jp-MarkdownHeadingCollapsed": true
   },
   "source": [
    "### 3.2 Setting a Connection with the ChromaDB"
   ]
  },
  {
   "cell_type": "code",
   "execution_count": 3,
   "id": "3c213633-be4c-4957-8e47-c7fff7d045a2",
   "metadata": {},
   "outputs": [],
   "source": [
    "# Step 2 - Initialize a ChromaDB Connection\n",
    "from langchain_chroma import Chroma\n",
    "\n",
    "# Initialize the database connection\n",
    "# If database exist, it will connect with the collection_name and persist_directory\n",
    "# Otherwise a new collection will be created\n",
    "\n",
    "db = Chroma(collection_name=\"vector_database\", \n",
    "            embedding_function=embedding_model, \n",
    "            persist_directory=\"./chroma_db_\")"
   ]
  },
  {
   "cell_type": "code",
   "execution_count": 5,
   "id": "00376bcf-6b7a-4728-a53a-8aeb512a0cab",
   "metadata": {},
   "outputs": [],
   "source": [
    "# Initially the database is empty\n",
    "\n",
    "# db.get()"
   ]
  },
  {
   "cell_type": "markdown",
   "id": "f98989a4-b980-4839-9b69-48e0e49de03a",
   "metadata": {
    "jp-MarkdownHeadingCollapsed": true
   },
   "source": [
    "### 3.3 Add Chunks to Vector DB"
   ]
  },
  {
   "cell_type": "code",
   "execution_count": 6,
   "id": "8be9d238-80f3-4a48-8fc7-872d86f3cf73",
   "metadata": {},
   "outputs": [],
   "source": [
    "# db.add_documents(chunks)"
   ]
  },
  {
   "cell_type": "code",
   "execution_count": 7,
   "id": "dd4f8372-9aa7-4b37-90b8-69a5b4156dc9",
   "metadata": {},
   "outputs": [],
   "source": [
    "# db.get()"
   ]
  }
 ],
 "metadata": {
  "kernelspec": {
   "display_name": "Python 3 (ipykernel)",
   "language": "python",
   "name": "python3"
  },
  "language_info": {
   "codemirror_mode": {
    "name": "ipython",
    "version": 3
   },
   "file_extension": ".py",
   "mimetype": "text/x-python",
   "name": "python",
   "nbconvert_exporter": "python",
   "pygments_lexer": "ipython3",
   "version": "3.11.8"
  }
 },
 "nbformat": 4,
 "nbformat_minor": 5
}
